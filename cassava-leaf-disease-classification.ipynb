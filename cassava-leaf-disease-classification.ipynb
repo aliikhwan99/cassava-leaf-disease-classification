{
 "cells": [
  {
   "cell_type": "code",
   "execution_count": 1,
   "id": "3ad05039",
   "metadata": {
    "_cell_guid": "b1076dfc-b9ad-4769-8c92-a6c4dae69d19",
    "_uuid": "8f2839f25d086af736a60e9eeb907d3b93b6e0e5",
    "execution": {
     "iopub.execute_input": "2024-10-02T16:46:07.527867Z",
     "iopub.status.busy": "2024-10-02T16:46:07.527418Z",
     "iopub.status.idle": "2024-10-02T16:46:10.421473Z",
     "shell.execute_reply": "2024-10-02T16:46:10.420086Z"
    },
    "papermill": {
     "duration": 2.902823,
     "end_time": "2024-10-02T16:46:10.424639",
     "exception": false,
     "start_time": "2024-10-02T16:46:07.521816",
     "status": "completed"
    },
    "tags": []
   },
   "outputs": [],
   "source": [
    "import numpy as np\n",
    "import pandas as pd\n",
    "import matplotlib as plt\n",
    "import seaborn as sns\n",
    "import os\n",
    "import shutil"
   ]
  },
  {
   "cell_type": "code",
   "execution_count": 2,
   "id": "c05a77d1",
   "metadata": {
    "execution": {
     "iopub.execute_input": "2024-10-02T16:46:10.431761Z",
     "iopub.status.busy": "2024-10-02T16:46:10.431182Z",
     "iopub.status.idle": "2024-10-02T16:46:10.441693Z",
     "shell.execute_reply": "2024-10-02T16:46:10.440473Z"
    },
    "papermill": {
     "duration": 0.017385,
     "end_time": "2024-10-02T16:46:10.444849",
     "exception": false,
     "start_time": "2024-10-02T16:46:10.427464",
     "status": "completed"
    },
    "tags": []
   },
   "outputs": [
    {
     "data": {
      "text/plain": [
       "['train_tfrecords',\n",
       " 'sample_submission.csv',\n",
       " 'test_tfrecords',\n",
       " 'label_num_to_disease_map.json',\n",
       " 'train_images',\n",
       " 'train.csv',\n",
       " 'test_images']"
      ]
     },
     "execution_count": 2,
     "metadata": {},
     "output_type": "execute_result"
    }
   ],
   "source": [
    "#list allk files in the input directory\n",
    "\n",
    "input_dir = '/kaggle/input/cassava-leaf-disease-classification'\n",
    "os.listdir(input_dir)"
   ]
  },
  {
   "cell_type": "code",
   "execution_count": null,
   "id": "817bb289",
   "metadata": {
    "papermill": {
     "duration": 0.00385,
     "end_time": "2024-10-02T16:46:10.451814",
     "exception": false,
     "start_time": "2024-10-02T16:46:10.447964",
     "status": "completed"
    },
    "tags": []
   },
   "outputs": [],
   "source": []
  }
 ],
 "metadata": {
  "kaggle": {
   "accelerator": "none",
   "dataSources": [
    {
     "databundleVersionId": 1718836,
     "sourceId": 13836,
     "sourceType": "competition"
    }
   ],
   "dockerImageVersionId": 30775,
   "isGpuEnabled": false,
   "isInternetEnabled": true,
   "language": "python",
   "sourceType": "notebook"
  },
  "kernelspec": {
   "display_name": "Python 3",
   "language": "python",
   "name": "python3"
  },
  "language_info": {
   "codemirror_mode": {
    "name": "ipython",
    "version": 3
   },
   "file_extension": ".py",
   "mimetype": "text/x-python",
   "name": "python",
   "nbconvert_exporter": "python",
   "pygments_lexer": "ipython3",
   "version": "3.10.14"
  },
  "papermill": {
   "default_parameters": {},
   "duration": 7.182128,
   "end_time": "2024-10-02T16:46:11.379650",
   "environment_variables": {},
   "exception": null,
   "input_path": "__notebook__.ipynb",
   "output_path": "__notebook__.ipynb",
   "parameters": {},
   "start_time": "2024-10-02T16:46:04.197522",
   "version": "2.6.0"
  }
 },
 "nbformat": 4,
 "nbformat_minor": 5
}
