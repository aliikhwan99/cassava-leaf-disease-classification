{
 "cells": [
  {
   "cell_type": "code",
   "execution_count": 1,
   "id": "83548f24",
   "metadata": {
    "_cell_guid": "b1076dfc-b9ad-4769-8c92-a6c4dae69d19",
    "_uuid": "8f2839f25d086af736a60e9eeb907d3b93b6e0e5",
    "execution": {
     "iopub.execute_input": "2024-10-09T15:46:57.568594Z",
     "iopub.status.busy": "2024-10-09T15:46:57.568035Z",
     "iopub.status.idle": "2024-10-09T15:47:00.551715Z",
     "shell.execute_reply": "2024-10-09T15:47:00.550285Z"
    },
    "papermill": {
     "duration": 2.991605,
     "end_time": "2024-10-09T15:47:00.554557",
     "exception": false,
     "start_time": "2024-10-09T15:46:57.562952",
     "status": "completed"
    },
    "tags": []
   },
   "outputs": [],
   "source": [
    "import numpy as np\n",
    "import pandas as pd\n",
    "import matplotlib as plt\n",
    "import seaborn as sns\n",
    "import os\n",
    "import shutil"
   ]
  },
  {
   "cell_type": "code",
   "execution_count": 2,
   "id": "907d750b",
   "metadata": {
    "execution": {
     "iopub.execute_input": "2024-10-09T15:47:00.562017Z",
     "iopub.status.busy": "2024-10-09T15:47:00.561436Z",
     "iopub.status.idle": "2024-10-09T15:47:00.571318Z",
     "shell.execute_reply": "2024-10-09T15:47:00.570052Z"
    },
    "papermill": {
     "duration": 0.016465,
     "end_time": "2024-10-09T15:47:00.573943",
     "exception": false,
     "start_time": "2024-10-09T15:47:00.557478",
     "status": "completed"
    },
    "tags": []
   },
   "outputs": [
    {
     "data": {
      "text/plain": [
       "['train_tfrecords',\n",
       " 'sample_submission.csv',\n",
       " 'test_tfrecords',\n",
       " 'label_num_to_disease_map.json',\n",
       " 'train_images',\n",
       " 'train.csv',\n",
       " 'test_images']"
      ]
     },
     "execution_count": 2,
     "metadata": {},
     "output_type": "execute_result"
    }
   ],
   "source": [
    "# Acces teh Dataset\n",
    "import os\n",
    "\n",
    "#list all files in the input directory\n",
    "input_dir = '/kaggle/input/cassava-leaf-disease-classification'\n",
    "os.listdir(input_dir)"
   ]
  },
  {
   "cell_type": "code",
   "execution_count": 3,
   "id": "e774f036",
   "metadata": {
    "execution": {
     "iopub.execute_input": "2024-10-09T15:47:00.581393Z",
     "iopub.status.busy": "2024-10-09T15:47:00.580938Z",
     "iopub.status.idle": "2024-10-09T15:47:00.635366Z",
     "shell.execute_reply": "2024-10-09T15:47:00.633959Z"
    },
    "papermill": {
     "duration": 0.061453,
     "end_time": "2024-10-09T15:47:00.638320",
     "exception": false,
     "start_time": "2024-10-09T15:47:00.576867",
     "status": "completed"
    },
    "tags": []
   },
   "outputs": [
    {
     "name": "stdout",
     "output_type": "stream",
     "text": [
      "         image_id  label\n",
      "0  1000015157.jpg      0\n",
      "1  1000201771.jpg      3\n",
      "2   100042118.jpg      1\n",
      "3  1000723321.jpg      1\n",
      "4  1000812911.jpg      3\n",
      "{'0': 'Cassava Bacterial Blight (CBB)', '1': 'Cassava Brown Streak Disease (CBSD)', '2': 'Cassava Green Mottle (CGM)', '3': 'Cassava Mosaic Disease (CMD)', '4': 'Healthy'}\n"
     ]
    }
   ],
   "source": [
    "import pandas as pd\n",
    "import json\n",
    "\n",
    "# Load the train.csv file\n",
    "train_df = pd.read_csv(os.path.join(input_dir, 'train.csv'))\n",
    "\n",
    "# Load the JSON file for mapping labels to diseases\n",
    "with open(os.path.join(input_dir, 'label_num_to_disease_map.json')) as f:\n",
    "    label_map = json.load(f)\n",
    "\n",
    "# Display the first few rows of the training data\n",
    "print(train_df.head())\n",
    "\n",
    "# Display the label mapping\n",
    "print(label_map)\n"
   ]
  },
  {
   "cell_type": "code",
   "execution_count": null,
   "id": "82b2d680",
   "metadata": {
    "papermill": {
     "duration": 0.002683,
     "end_time": "2024-10-09T15:47:00.644191",
     "exception": false,
     "start_time": "2024-10-09T15:47:00.641508",
     "status": "completed"
    },
    "tags": []
   },
   "outputs": [],
   "source": []
  }
 ],
 "metadata": {
  "kaggle": {
   "accelerator": "none",
   "dataSources": [
    {
     "databundleVersionId": 1718836,
     "sourceId": 13836,
     "sourceType": "competition"
    }
   ],
   "dockerImageVersionId": 30775,
   "isGpuEnabled": false,
   "isInternetEnabled": true,
   "language": "python",
   "sourceType": "notebook"
  },
  "kernelspec": {
   "display_name": "Python 3",
   "language": "python",
   "name": "python3"
  },
  "language_info": {
   "codemirror_mode": {
    "name": "ipython",
    "version": 3
   },
   "file_extension": ".py",
   "mimetype": "text/x-python",
   "name": "python",
   "nbconvert_exporter": "python",
   "pygments_lexer": "ipython3",
   "version": "3.10.14"
  },
  "papermill": {
   "default_parameters": {},
   "duration": 7.004364,
   "end_time": "2024-10-09T15:47:01.370174",
   "environment_variables": {},
   "exception": null,
   "input_path": "__notebook__.ipynb",
   "output_path": "__notebook__.ipynb",
   "parameters": {},
   "start_time": "2024-10-09T15:46:54.365810",
   "version": "2.6.0"
  }
 },
 "nbformat": 4,
 "nbformat_minor": 5
}
