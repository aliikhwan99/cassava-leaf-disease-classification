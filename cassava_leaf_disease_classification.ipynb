{
  "metadata": {
    "kernelspec": {
      "language": "python",
      "display_name": "Python 3",
      "name": "python3"
    },
    "language_info": {
      "name": "python",
      "version": "3.10.14",
      "mimetype": "text/x-python",
      "codemirror_mode": {
        "name": "ipython",
        "version": 3
      },
      "pygments_lexer": "ipython3",
      "nbconvert_exporter": "python",
      "file_extension": ".py"
    },
    "kaggle": {
      "accelerator": "gpu",
      "dataSources": [
        {
          "sourceId": 13836,
          "databundleVersionId": 1718836,
          "sourceType": "competition"
        },
        {
          "sourceId": 167936,
          "sourceType": "modelInstanceVersion",
          "isSourceIdPinned": true,
          "modelInstanceId": 142878,
          "modelId": 165457
        }
      ],
      "dockerImageVersionId": 30775,
      "isInternetEnabled": true,
      "language": "python",
      "sourceType": "notebook",
      "isGpuEnabled": true
    },
    "colab": {
      "name": "cassava-leaf-disease-classification",
      "provenance": [],
      "include_colab_link": true
    }
  },
  "nbformat_minor": 0,
  "nbformat": 4,
  "cells": [
    {
      "cell_type": "markdown",
      "metadata": {
        "id": "view-in-github",
        "colab_type": "text"
      },
      "source": [
        "<a href=\"https://colab.research.google.com/github/aliikhwan99/cassava-leaf-disease-classification/blob/main/cassava_leaf_disease_classification.ipynb\" target=\"_parent\"><img src=\"https://colab.research.google.com/assets/colab-badge.svg\" alt=\"Open In Colab\"/></a>"
      ]
    },
    {
      "source": [
        "# IMPORTANT: SOME KAGGLE DATA SOURCES ARE PRIVATE\n",
        "# RUN THIS CELL IN ORDER TO IMPORT YOUR KAGGLE DATA SOURCES.\n",
        "import kagglehub\n",
        "kagglehub.login()\n"
      ],
      "metadata": {
        "id": "1wllIm6xn2H0"
      },
      "cell_type": "code",
      "outputs": [],
      "execution_count": null
    },
    {
      "source": [
        "# IMPORTANT: RUN THIS CELL IN ORDER TO IMPORT YOUR KAGGLE DATA SOURCES,\n",
        "# THEN FEEL FREE TO DELETE THIS CELL.\n",
        "# NOTE: THIS NOTEBOOK ENVIRONMENT DIFFERS FROM KAGGLE'S PYTHON\n",
        "# ENVIRONMENT SO THERE MAY BE MISSING LIBRARIES USED BY YOUR\n",
        "# NOTEBOOK.\n",
        "\n",
        "cassava_leaf_disease_classification_path = kagglehub.competition_download('cassava-leaf-disease-classification')\n",
        "nooraliikhwan_tryresnet_pytorch_default_1_path = kagglehub.model_download('nooraliikhwan/tryresnet/PyTorch/default/1')\n",
        "\n",
        "print('Data source import complete.')\n"
      ],
      "metadata": {
        "id": "raJxVltEn2H0"
      },
      "cell_type": "code",
      "outputs": [],
      "execution_count": null
    },
    {
      "cell_type": "code",
      "source": [
        "import tensorflow as tf\n",
        "print(\"Num GPUs Available: \", len(tf.config.experimental.list_physical_devices('GPU')))"
      ],
      "metadata": {
        "trusted": true,
        "execution": {
          "iopub.status.busy": "2025-01-06T15:19:24.392006Z",
          "iopub.execute_input": "2025-01-06T15:19:24.392341Z",
          "iopub.status.idle": "2025-01-06T15:19:24.397359Z",
          "shell.execute_reply.started": "2025-01-06T15:19:24.39231Z",
          "shell.execute_reply": "2025-01-06T15:19:24.396502Z"
        },
        "id": "OGVjmPE1n2H1"
      },
      "outputs": [],
      "execution_count": null
    },
    {
      "cell_type": "code",
      "source": [
        "import numpy as np\n",
        "import pandas as pd\n",
        "import matplotlib as plt\n",
        "import seaborn as sns\n",
        "import os\n",
        "import shutil"
      ],
      "metadata": {
        "_uuid": "8f2839f25d086af736a60e9eeb907d3b93b6e0e5",
        "_cell_guid": "b1076dfc-b9ad-4769-8c92-a6c4dae69d19",
        "execution": {
          "iopub.status.busy": "2025-01-06T15:19:24.399543Z",
          "iopub.execute_input": "2025-01-06T15:19:24.399959Z",
          "iopub.status.idle": "2025-01-06T15:19:24.934878Z",
          "shell.execute_reply.started": "2025-01-06T15:19:24.399922Z",
          "shell.execute_reply": "2025-01-06T15:19:24.934149Z"
        },
        "trusted": true,
        "id": "9379aG0Un2H1"
      },
      "outputs": [],
      "execution_count": null
    },
    {
      "cell_type": "markdown",
      "source": [
        "# Access the Dataset"
      ],
      "metadata": {
        "id": "Xk8RwdOnn2H2"
      }
    },
    {
      "cell_type": "code",
      "source": [
        "# Acces teh Dataset\n",
        "import os\n",
        "\n",
        "#list all files in the input directory\n",
        "input_dir = '/kaggle/input/cassava-leaf-disease-classification'\n",
        "os.listdir(input_dir)"
      ],
      "metadata": {
        "execution": {
          "iopub.status.busy": "2025-01-06T15:19:24.935816Z",
          "iopub.execute_input": "2025-01-06T15:19:24.936222Z",
          "iopub.status.idle": "2025-01-06T15:19:24.94393Z",
          "shell.execute_reply.started": "2025-01-06T15:19:24.936196Z",
          "shell.execute_reply": "2025-01-06T15:19:24.943124Z"
        },
        "trusted": true,
        "id": "GLwl_Fk3n2H2"
      },
      "outputs": [],
      "execution_count": null
    },
    {
      "cell_type": "markdown",
      "source": [
        "# Load CSV and JSON Files"
      ],
      "metadata": {
        "id": "7hS7x8HWn2H3"
      }
    },
    {
      "cell_type": "code",
      "source": [
        "import pandas as pd\n",
        "import json\n",
        "\n",
        "# Load the train.csv file\n",
        "train_df = pd.read_csv(os.path.join(input_dir, 'train.csv'))\n",
        "\n",
        "# Load the JSON file for mapping labels to diseases\n",
        "with open(os.path.join(input_dir, 'label_num_to_disease_map.json')) as f:\n",
        "    label_map = json.load(f)\n",
        "\n",
        "# Display the first few rows of the training data\n",
        "print(train_df.head())\n",
        "\n",
        "# Display the label mapping\n",
        "print(label_map)\n"
      ],
      "metadata": {
        "execution": {
          "iopub.status.busy": "2025-01-06T15:19:24.945088Z",
          "iopub.execute_input": "2025-01-06T15:19:24.945341Z",
          "iopub.status.idle": "2025-01-06T15:19:24.989007Z",
          "shell.execute_reply.started": "2025-01-06T15:19:24.945317Z",
          "shell.execute_reply": "2025-01-06T15:19:24.988121Z"
        },
        "trusted": true,
        "id": "L7_6PJCCn2H3"
      },
      "outputs": [],
      "execution_count": null
    },
    {
      "cell_type": "markdown",
      "source": [
        "# Load and Visualize Images"
      ],
      "metadata": {
        "id": "Zw-_8gHDn2H3"
      }
    },
    {
      "cell_type": "code",
      "source": [
        "import matplotlib.pyplot as plt\n",
        "from PIL import Image\n",
        "\n",
        "# Function to load and display an image\n",
        "def load_and_display_image(image_id):\n",
        "    image_path = os.path.join(input_dir, 'train_images', image_id)\n",
        "    img = Image.open(image_path)\n",
        "    plt.imshow(img)\n",
        "    plt.axis('off')  # Hide axes\n",
        "    plt.show()\n",
        "\n",
        "# Display a sample image\n",
        "sample_image_id = train_df['image_id'].iloc[0]\n",
        "load_and_display_image(sample_image_id)\n"
      ],
      "metadata": {
        "execution": {
          "iopub.status.busy": "2025-01-06T15:19:24.991651Z",
          "iopub.execute_input": "2025-01-06T15:19:24.992262Z",
          "iopub.status.idle": "2025-01-06T15:19:25.444757Z",
          "shell.execute_reply.started": "2025-01-06T15:19:24.992222Z",
          "shell.execute_reply": "2025-01-06T15:19:25.443742Z"
        },
        "trusted": true,
        "id": "7EZGBOran2H3"
      },
      "outputs": [],
      "execution_count": null
    },
    {
      "cell_type": "markdown",
      "source": [
        "# Preprocess Images"
      ],
      "metadata": {
        "id": "yGe5BCeXn2H4"
      }
    },
    {
      "cell_type": "code",
      "source": [
        "from PIL import Image\n",
        "from torchvision import transforms\n",
        "\n",
        "# Define preprocessing transformations\n",
        "preprocess = transforms.Compose([\n",
        "    transforms.Resize((224, 224)),  # Resize images to 224x224\n",
        "    transforms.ToTensor(),          # Convert images to PyTorch tensors\n",
        "    transforms.Normalize(mean=[0.485, 0.456, 0.406], std=[0.229, 0.224, 0.225])\n",
        "])\n",
        "\n",
        "# Function to load an image using PIL\n",
        "def load_image(image_id):\n",
        "    image_path = os.path.join('/kaggle/input/cassava-leaf-disease-classification/train_images', image_id)\n",
        "    img = Image.open(image_path)\n",
        "    return img\n",
        "\n",
        "# Example: Load and preprocess the sample image\n",
        "sample_image_id = train_df['image_id'].iloc[0]  # Replace with actual image ID if needed\n",
        "img = load_image(sample_image_id)               # Load image\n",
        "img_tensor = preprocess(img)                    # Apply preprocessing transformations\n",
        "\n",
        "# Check the shape of the processed image tensor\n",
        "print(img_tensor.shape)\n"
      ],
      "metadata": {
        "execution": {
          "iopub.status.busy": "2025-01-06T15:19:25.4463Z",
          "iopub.execute_input": "2025-01-06T15:19:25.446628Z",
          "iopub.status.idle": "2025-01-06T15:19:29.502453Z",
          "shell.execute_reply.started": "2025-01-06T15:19:25.446593Z",
          "shell.execute_reply": "2025-01-06T15:19:29.501502Z"
        },
        "trusted": true,
        "id": "fG9Uc5zvn2H4"
      },
      "outputs": [],
      "execution_count": null
    },
    {
      "cell_type": "markdown",
      "source": [
        "# Define the Model"
      ],
      "metadata": {
        "id": "XENRjUMun2H4"
      }
    },
    {
      "cell_type": "code",
      "source": [
        "import torch\n",
        "import torch.nn as nn\n",
        "import torch.optim as optim\n",
        "from torch.utils.data import DataLoader\n",
        "import torchvision.transforms as transforms\n",
        "\n",
        "# Define your CNN model (simple architecture for image classification)\n",
        "class CassavaCNN(nn.Module):\n",
        "    def __init__(self, num_classes=5):  # Assuming 5 classes for Cassava leaf disease\n",
        "        super(CassavaCNN, self).__init__()\n",
        "\n",
        "        # Define the layers of the CNN\n",
        "        self.conv1 = nn.Conv2d(in_channels=3, out_channels=32, kernel_size=3, stride=1, padding=1)\n",
        "        self.conv2 = nn.Conv2d(32, 64, kernel_size=3, stride=1, padding=1)\n",
        "        self.conv3 = nn.Conv2d(64, 128, kernel_size=3, stride=1, padding=1)\n",
        "\n",
        "        self.pool = nn.MaxPool2d(kernel_size=2, stride=2, padding=0)\n",
        "\n",
        "        # Fully connected layers\n",
        "        self.fc1 = nn.Linear(128 * 8 * 8, 512)  # Assuming input image size is 64x64\n",
        "        self.fc2 = nn.Linear(512, num_classes)\n",
        "\n",
        "        # Dropout layer\n",
        "        self.dropout = nn.Dropout(0.5)\n",
        "\n",
        "    def forward(self, x):\n",
        "        x = self.pool(torch.relu(self.conv1(x)))\n",
        "        x = self.pool(torch.relu(self.conv2(x)))\n",
        "        x = self.pool(torch.relu(self.conv3(x)))\n",
        "\n",
        "        x = x.view(-1, 128 * 8 * 8)  # Flatten the feature map\n",
        "\n",
        "        x = torch.relu(self.fc1(x))\n",
        "        x = self.dropout(x)\n",
        "        x = self.fc2(x)\n",
        "\n",
        "        return x\n"
      ],
      "metadata": {
        "execution": {
          "iopub.status.busy": "2025-01-06T15:19:29.503859Z",
          "iopub.execute_input": "2025-01-06T15:19:29.5048Z",
          "iopub.status.idle": "2025-01-06T15:19:29.513594Z",
          "shell.execute_reply.started": "2025-01-06T15:19:29.504757Z",
          "shell.execute_reply": "2025-01-06T15:19:29.51272Z"
        },
        "trusted": true,
        "id": "-OqB_BX1n2H4"
      },
      "outputs": [],
      "execution_count": null
    },
    {
      "cell_type": "markdown",
      "source": [
        "# Prepare Dataset and DataLoader"
      ],
      "metadata": {
        "id": "lCC5hZmHn2H5"
      }
    },
    {
      "cell_type": "code",
      "source": [
        "import os\n",
        "print(os.listdir(\"/kaggle/input\"))\n"
      ],
      "metadata": {
        "execution": {
          "iopub.status.busy": "2025-01-06T15:19:29.514746Z",
          "iopub.execute_input": "2025-01-06T15:19:29.515091Z",
          "iopub.status.idle": "2025-01-06T15:19:29.528563Z",
          "shell.execute_reply.started": "2025-01-06T15:19:29.515054Z",
          "shell.execute_reply": "2025-01-06T15:19:29.527703Z"
        },
        "trusted": true,
        "id": "n-Y9VYv7n2H5"
      },
      "outputs": [],
      "execution_count": null
    },
    {
      "cell_type": "code",
      "source": [
        "import os\n",
        "print(os.listdir(\"/kaggle/input/cassava-leaf-disease-classification\"))\n"
      ],
      "metadata": {
        "execution": {
          "iopub.status.busy": "2025-01-06T15:19:29.529611Z",
          "iopub.execute_input": "2025-01-06T15:19:29.529901Z",
          "iopub.status.idle": "2025-01-06T15:19:29.540915Z",
          "shell.execute_reply.started": "2025-01-06T15:19:29.529875Z",
          "shell.execute_reply": "2025-01-06T15:19:29.540057Z"
        },
        "trusted": true,
        "id": "5hG-ueHYn2H5"
      },
      "outputs": [],
      "execution_count": null
    },
    {
      "cell_type": "code",
      "source": [
        "import pandas as pd\n",
        "from PIL import Image\n",
        "from torch.utils.data import Dataset, DataLoader, random_split\n",
        "import torchvision.transforms as transforms\n",
        "\n",
        "# Load the CSV with image file names and labels\n",
        "train_df = pd.read_csv('/kaggle/input/cassava-leaf-disease-classification/train.csv')\n",
        "\n",
        "# Shuffle the dataset and select the first 1000 samples\n",
        "train_df = train_df.sample(frac=1, random_state=42).reset_index(drop=True)  # Shuffle the dataset\n",
        "train_df = train_df[:1000]  # Select the first 1000 samples\n",
        "\n",
        "# Custom Dataset class to handle loading of images and their labels\n",
        "class CassavaDataset(Dataset):\n",
        "    def __init__(self, data_frame, root_dir, transform=None):\n",
        "        self.data_frame = data_frame\n",
        "        self.root_dir = root_dir\n",
        "        self.transform = transform\n",
        "\n",
        "    def __len__(self):\n",
        "        return len(self.data_frame)\n",
        "\n",
        "    def __getitem__(self, idx):\n",
        "        img_name = self.data_frame.iloc[idx, 0]  # Assuming first column contains image names\n",
        "        img_path = f\"{self.root_dir}/{img_name}\"\n",
        "        image = Image.open(img_path)\n",
        "\n",
        "        label = self.data_frame.iloc[idx, 1]  # Assuming second column contains labels\n",
        "\n",
        "        if self.transform:\n",
        "            image = self.transform(image)\n",
        "\n",
        "        return image, label\n",
        "\n",
        "# Define transform\n",
        "transform = transforms.Compose([\n",
        "    transforms.Resize((224, 224)),\n",
        "    transforms.ToTensor(),\n",
        "    transforms.Normalize(mean=[0.485, 0.456, 0.406], std=[0.229, 0.224, 0.225])\n",
        "])\n",
        "\n",
        "# Define batch size\n",
        "batch_size = 32  # You can adjust this value depending on your memory constraints\n",
        "\n",
        "# Create the dataset using the first 1000 samples\n",
        "train_dataset = CassavaDataset(\n",
        "    data_frame=train_df,\n",
        "    root_dir='/kaggle/input/cassava-leaf-disease-classification/train_images',\n",
        "    transform=transform\n",
        ")\n",
        "\n",
        "# Split the dataset into 800 for training and 200 for testing\n",
        "train_size = 800\n",
        "test_size = 200\n",
        "train_subset, test_subset = random_split(train_dataset, [train_size, test_size])\n",
        "\n",
        "# Create DataLoaders for training and testing\n",
        "train_loader = DataLoader(dataset=train_subset, batch_size=batch_size, shuffle=True)\n",
        "test_loader = DataLoader(dataset=test_subset, batch_size=batch_size, shuffle=False, num_workers=4, pin_memory=True)\n",
        "\n",
        "# Now 'train_loader' contains 800 samples for training and 'test_loader' contains 200 samples for testing\n"
      ],
      "metadata": {
        "execution": {
          "iopub.status.busy": "2025-01-06T15:19:29.542132Z",
          "iopub.execute_input": "2025-01-06T15:19:29.542384Z",
          "iopub.status.idle": "2025-01-06T15:19:29.57744Z",
          "shell.execute_reply.started": "2025-01-06T15:19:29.54236Z",
          "shell.execute_reply": "2025-01-06T15:19:29.576494Z"
        },
        "trusted": true,
        "id": "iZyZr2eTn2H5"
      },
      "outputs": [],
      "execution_count": null
    },
    {
      "cell_type": "code",
      "source": [
        "import os\n",
        "import pandas as pd\n",
        "from PIL import Image\n",
        "import torch\n",
        "from torch.utils.data import Dataset, DataLoader\n",
        "from torchvision import transforms\n",
        "\n",
        "# Define the custom dataset class\n",
        "class CassavaDataset(Dataset):\n",
        "    def __init__(self, csv_file, img_dir, transform=None):\n",
        "        self.data = pd.read_csv(csv_file)\n",
        "        self.img_dir = img_dir\n",
        "        self.transform = transform\n",
        "\n",
        "    def __len__(self):\n",
        "        return len(self.data)\n",
        "\n",
        "    def __getitem__(self, idx):\n",
        "        img_name = os.path.join(self.img_dir, self.data.iloc[idx, 0])\n",
        "        image = Image.open(img_name)\n",
        "        label = int(self.data.iloc[idx, 1])\n",
        "\n",
        "        if self.transform:\n",
        "            image = self.transform(image)\n",
        "\n",
        "        return image, label\n",
        "\n",
        "# Define preprocessing\n",
        "preprocess = transforms.Compose([\n",
        "    transforms.Resize((224, 224)),\n",
        "    transforms.ToTensor(),\n",
        "    transforms.Normalize(mean=[0.485, 0.456, 0.406], std=[0.229, 0.224, 0.225])\n",
        "])\n",
        "\n",
        "# Paths to CSV and image directory\n",
        "csv_file = '/kaggle/input/cassava-leaf-disease-classification/train.csv'\n",
        "img_dir = '/kaggle/input/cassava-leaf-disease-classification/train_images'\n",
        "\n",
        "# Create the dataset\n",
        "train_dataset = CassavaDataset(csv_file=csv_file, img_dir=img_dir, transform=preprocess)\n",
        "\n",
        "# Create the DataLoader\n",
        "batch_size = 32\n",
        "dataloader = DataLoader(train_dataset, batch_size=batch_size, shuffle=True)\n",
        "\n",
        "# Example usage (loop through one batch of data)\n",
        "for images, labels in dataloader:\n",
        "    print(images.shape, labels.shape)  # Should print: torch.Size([32, 3, 224, 224]), torch.Size([32])\n",
        "    break\n"
      ],
      "metadata": {
        "execution": {
          "iopub.status.busy": "2025-01-06T15:19:29.578585Z",
          "iopub.execute_input": "2025-01-06T15:19:29.578955Z",
          "iopub.status.idle": "2025-01-06T15:19:30.101313Z",
          "shell.execute_reply.started": "2025-01-06T15:19:29.578924Z",
          "shell.execute_reply": "2025-01-06T15:19:30.100348Z"
        },
        "trusted": true,
        "id": "qmqdflRDn2H5"
      },
      "outputs": [],
      "execution_count": null
    },
    {
      "cell_type": "code",
      "source": [
        "import torch\n",
        "import torch.nn as nn\n",
        "import torch.optim as optim\n",
        "from torchvision import models\n",
        "from torchvision.models import ResNet50_Weights  # Import the weights enum\n",
        "\n",
        "# Load a pre-trained model with updated weights argument\n",
        "model = models.resnet50(weights=ResNet50_Weights.DEFAULT)  # Use DEFAULT weights\n",
        "\n",
        "# Freeze all layers except the final fully connected layer\n",
        "for param in model.parameters():\n",
        "    param.requires_grad = False\n",
        "\n",
        "# Replace the final layer for the desired number of classes (5 in this case)\n",
        "model.fc = nn.Linear(model.fc.in_features, 5)  # 5 classes for the diseases\n",
        "\n",
        "# Only the parameters in the final layer (model.fc) will be optimized\n",
        "optimizer = optim.Adam(model.fc.parameters(), lr=0.0001)\n",
        "\n",
        "# Define loss\n",
        "criterion = nn.CrossEntropyLoss()\n",
        "\n",
        "# Set the model to training mode\n",
        "model.train()\n",
        "\n",
        "# Define number of epochs\n",
        "num_epochs = 1  # Adjust as needed\n",
        "\n",
        "# Training loop (simplified example)\n",
        "for epoch in range(num_epochs):\n",
        "    for images, labels in dataloader:  # Use a DataLoader to load your data\n",
        "        optimizer.zero_grad()\n",
        "        outputs = model(images)\n",
        "        loss = criterion(outputs, labels)\n",
        "        loss.backward()\n",
        "        optimizer.step()\n",
        "\n",
        "    print(f\"Epoch [{epoch+1}/{num_epochs}], Loss: {loss.item():.4f}\")\n"
      ],
      "metadata": {
        "execution": {
          "iopub.status.busy": "2025-01-06T15:19:50.622801Z",
          "iopub.execute_input": "2025-01-06T15:19:50.623385Z",
          "iopub.status.idle": "2025-01-06T16:17:17.450748Z",
          "shell.execute_reply.started": "2025-01-06T15:19:50.623352Z",
          "shell.execute_reply": "2025-01-06T16:17:17.449614Z"
        },
        "trusted": true,
        "id": "8AjpWB8gn2H5"
      },
      "outputs": [],
      "execution_count": null
    },
    {
      "cell_type": "markdown",
      "source": [
        "# Evaluate the Model (Optional)"
      ],
      "metadata": {
        "id": "Wrc5wyk8n2H5"
      }
    },
    {
      "cell_type": "code",
      "source": [
        "from sklearn.metrics import confusion_matrix\n",
        "import seaborn as sns\n",
        "import matplotlib.pyplot as plt\n",
        "import torch\n",
        "\n",
        "# Assuming test_loader and label_map are defined correctly\n",
        "\n",
        "# Set the model to evaluation mode\n",
        "model.eval()\n",
        "\n",
        "# Initialize variables to collect predictions and labels\n",
        "all_preds = []\n",
        "all_labels = []\n",
        "\n",
        "# Define the device\n",
        "device = torch.device('cuda' if torch.cuda.is_available() else 'cpu')\n",
        "model.to(device)\n",
        "\n",
        "# Disable gradient calculation for faster inference\n",
        "with torch.no_grad():\n",
        "    correct = 0\n",
        "    total = 0\n",
        "\n",
        "    for images, labels in test_loader:\n",
        "        images, labels = images.to(device), labels.to(device)  # Move to the same device\n",
        "\n",
        "        outputs = model(images)  # Forward pass\n",
        "        _, predicted = torch.max(outputs, 1)  # Get predictions\n",
        "\n",
        "        total += labels.size(0)\n",
        "        correct += (predicted == labels).sum().item()  # Count correct predictions\n",
        "\n",
        "        # Collect predictions and labels\n",
        "        all_preds.extend(predicted.cpu().numpy())  # Move to CPU and convert to numpy\n",
        "        all_labels.extend(labels.cpu().numpy())  # Move to CPU and convert to numpy\n",
        "\n",
        "    print(f\"Test Accuracy: {100 * correct / total:.2f}%\")  # Display test accuracy\n",
        "\n",
        "# Compute the confusion matrix\n",
        "cm = confusion_matrix(all_labels, all_preds)\n",
        "\n",
        "# Plot confusion matrix\n",
        "plt.figure(figsize=(10, 7))\n",
        "sns.heatmap(cm, annot=True, fmt='d', cmap='Blues',\n",
        "            xticklabels=label_map.values(), yticklabels=label_map.values())\n",
        "plt.xlabel('Predicted')\n",
        "plt.ylabel('True')\n",
        "plt.title('Confusion Matrix')\n",
        "plt.show()\n"
      ],
      "metadata": {
        "trusted": true,
        "execution": {
          "iopub.status.busy": "2025-01-06T16:17:48.525344Z",
          "iopub.execute_input": "2025-01-06T16:17:48.525741Z",
          "iopub.status.idle": "2025-01-06T16:17:50.390296Z",
          "shell.execute_reply.started": "2025-01-06T16:17:48.525668Z",
          "shell.execute_reply": "2025-01-06T16:17:50.388927Z"
        },
        "id": "G_3v11Zcn2H6"
      },
      "outputs": [],
      "execution_count": null
    },
    {
      "cell_type": "markdown",
      "source": [
        "# -------------"
      ],
      "metadata": {
        "id": "f1gj-LB2n2H6"
      }
    },
    {
      "cell_type": "code",
      "source": [
        "from torch.utils.data import Dataset, DataLoader, random_split\n",
        "\n",
        "train_loader = DataLoader(dataset=train_subset, batch_size=batch_size, shuffle=True)\n",
        "test_loader = DataLoader(dataset=test_subset, batch_size=batch_size, shuffle=False)\n",
        "\n",
        "# Grad-CAM function\n",
        "def grad_cam(input_image, model, target_layer):\n",
        "    model.eval()\n",
        "    activations, gradients = [], []\n",
        "\n",
        "    def forward_hook(module, input, output):\n",
        "        activations.append(output)\n",
        "\n",
        "    def backward_hook(module, grad_input, grad_output):\n",
        "        gradients.append(grad_output[0])\n",
        "\n",
        "    forward_handle = target_layer.register_forward_hook(forward_hook)\n",
        "    backward_handle = target_layer.register_backward_hook(backward_hook)\n",
        "\n",
        "    x = input_image.requires_grad_()\n",
        "    output = model(x)\n",
        "    class_idx = output.argmax(dim=1).item()\n",
        "    model.zero_grad()\n",
        "    output[:, class_idx].backward()\n",
        "\n",
        "    forward_handle.remove()\n",
        "    backward_handle.remove()\n",
        "\n",
        "    activation = activations[0].detach()\n",
        "    gradient = gradients[0].detach()\n",
        "    weights = gradient.mean(dim=(2, 3), keepdim=True)\n",
        "    cam = (weights * activation).sum(dim=1, keepdim=True)\n",
        "    cam = torch.relu(cam)\n",
        "    return cam.squeeze().cpu().numpy()\n",
        "\n",
        "# Grad-CAM loop for test_loader\n",
        "feature_importances_all_batches = []\n",
        "\n",
        "for batch_idx, (images, labels) in enumerate(test_loader):\n",
        "    feature_importances_batch = []\n",
        "    for i in range(images.size(0)):\n",
        "        cam = grad_cam(images[i].unsqueeze(0), model, model.layer4)\n",
        "        feature_importances_batch.append(cam.mean())\n",
        "    feature_importances_all_batches.append(feature_importances_batch)\n",
        "    print(f\"Batch {batch_idx + 1} Feature Importances: {feature_importances_batch}\")"
      ],
      "metadata": {
        "trusted": true,
        "id": "oNdIJu2tn2H6"
      },
      "outputs": [],
      "execution_count": null
    },
    {
      "cell_type": "code",
      "source": [
        "import matplotlib.pyplot as plt\n",
        "import numpy as np\n",
        "\n",
        "# Assuming feature_importances is a list of means from Grad-CAM outputs\n",
        "feature_importances = np.array(feature_importances)\n",
        "\n",
        "# Generate indices for the bars\n",
        "indices = np.arange(len(feature_importances))\n",
        "\n",
        "# Create a bar chart\n",
        "plt.figure(figsize=(10, 6))\n",
        "plt.bar(indices, feature_importances, color='blue', alpha=0.7)\n",
        "\n",
        "# Adding labels and title\n",
        "plt.xlabel('Images', fontsize=14)\n",
        "plt.ylabel('Feature Importance (Mean Grad-CAM)', fontsize=14)\n",
        "plt.title('Feature Importance from Grad-CAM', fontsize=16)\n",
        "plt.xticks(indices, [f'Image {i+1}' for i in indices], fontsize=10, rotation=45)\n",
        "plt.ylim(0, feature_importances.max() * 1.1)  # Set y-axis limit slightly above max\n",
        "\n",
        "# Show the plot\n",
        "plt.tight_layout()\n",
        "plt.show()\n"
      ],
      "metadata": {
        "trusted": true,
        "execution": {
          "execution_failed": "2025-01-05T16:08:01.939Z"
        },
        "id": "71AUb7HAn2H6"
      },
      "outputs": [],
      "execution_count": null
    },
    {
      "cell_type": "code",
      "source": [
        "import torch\n",
        "import numpy as np\n",
        "import matplotlib.pyplot as plt\n",
        "import seaborn as sns\n",
        "import cv2\n",
        "\n",
        "# Function to compute Grad-CAM\n",
        "def grad_cam(input_image, model, target_layer):\n",
        "    # Register forward and backward hooks\n",
        "    activations = []\n",
        "    gradients = []\n",
        "\n",
        "    def forward_hook(module, input, output):\n",
        "        activations.append(output)\n",
        "        print(\"Forward hook triggered. Activation shape:\", output.shape)  # Debug\n",
        "\n",
        "    def backward_hook(module, grad_input, grad_output):\n",
        "        gradients.append(grad_output[0])\n",
        "        print(\"Backward hook triggered. Gradient shape:\", grad_output[0].shape)  # Debug\n",
        "\n",
        "    # Register hooks\n",
        "    forward_handle = target_layer.register_forward_hook(forward_hook)\n",
        "    backward_handle = target_layer.register_backward_hook(backward_hook)\n",
        "\n",
        "    # Forward pass\n",
        "    model.eval()\n",
        "    x = input_image.requires_grad_()  # Ensure input requires gradient\n",
        "    output = model(x)\n",
        "    target_class = output.argmax(dim=1).item()\n",
        "\n",
        "    # Backward pass\n",
        "    model.zero_grad()\n",
        "    output[0, target_class].backward()\n",
        "\n",
        "    # Check if activations and gradients were captured\n",
        "    if not activations or not gradients:\n",
        "        raise RuntimeError(\"Hooks did not capture any activations or gradients.\")\n",
        "\n",
        "    # Get the activation and gradient\n",
        "    activation = activations[0].detach()\n",
        "    gradient = gradients[0].detach()\n",
        "\n",
        "    # Average the gradients spatially\n",
        "    weights = torch.mean(gradient, dim=[0, 2, 3], keepdim=True)\n",
        "\n",
        "    # Create the Grad-CAM map\n",
        "    cam = torch.sum(weights * activation, dim=1).squeeze()\n",
        "    cam = torch.relu(cam)  # Apply ReLU\n",
        "    cam = cam.cpu().numpy()\n",
        "\n",
        "    # Normalize the CAM\n",
        "    cam -= cam.min()\n",
        "    cam /= cam.max()\n",
        "\n",
        "    # Remove hooks after usage\n",
        "    forward_handle.remove()\n",
        "    backward_handle.remove()\n",
        "\n",
        "    return cam, target_class\n",
        "\n",
        "# Function to generate Grad-CAM images for a batch\n",
        "def generate_grad_cam_images(images, model, target_layer):\n",
        "    grad_cam_images = []\n",
        "    predictions = []\n",
        "\n",
        "    for i in range(images.size(0)):\n",
        "        cam, pred_class = grad_cam(images[i].unsqueeze(0), model, target_layer)  # Generate Grad-CAM for each image\n",
        "        cam = cv2.resize(cam, (images.size(2), images.size(3)))  # Resize to match input image size\n",
        "        cam = np.uint8(255 * cam)  # Scale to [0, 255]\n",
        "\n",
        "        # Create heatmap\n",
        "        heatmap = cv2.applyColorMap(cam, cv2.COLORMAP_JET)\n",
        "        heatmap = cv2.cvtColor(heatmap, cv2.COLOR_BGR2RGB)  # Convert to RGB\n",
        "        overlay = 0.5 * heatmap + 0.5 * images[i].cpu().numpy().transpose(1, 2, 0)  # Overlay heatmap on image\n",
        "\n",
        "        grad_cam_images.append(overlay)\n",
        "        predictions.append(pred_class)\n",
        "\n",
        "    return grad_cam_images, predictions\n",
        "\n",
        "# Function to plot Grad-CAM results\n",
        "def plot_grad_cam_results(grad_cam_images, predictions):\n",
        "    plt.figure(figsize=(15, 15))\n",
        "    for i in range(len(grad_cam_images)):\n",
        "        plt.subplot(4, 4, i + 1)  # Adjust the number of rows and columns as needed\n",
        "        plt.imshow(grad_cam_images[i])\n",
        "        plt.title(f'Predicted Class: {predictions[i]}')\n",
        "        plt.axis('off')\n",
        "    plt.tight_layout()\n",
        "    plt.show()\n",
        "\n",
        "# Assuming `images` is a tensor of shape (N, C, H, W) and model is already defined\n",
        "try:\n",
        "    grad_cam_images, predictions = generate_grad_cam_images(images, model, model.layer4)  # Assuming model.layer4 is the target layer\n",
        "    plot_grad_cam_results(grad_cam_images, predictions)\n",
        "except RuntimeError as e:\n",
        "    print(\"An error occurred:\", e)\n"
      ],
      "metadata": {
        "trusted": true,
        "execution": {
          "execution_failed": "2025-01-05T16:08:01.939Z"
        },
        "id": "CsUeiRX1n2H6"
      },
      "outputs": [],
      "execution_count": null
    },
    {
      "cell_type": "markdown",
      "source": [
        "# Using the existing model save"
      ],
      "metadata": {
        "id": "WC8QHFIFn2H6"
      }
    },
    {
      "cell_type": "code",
      "source": [
        "# This Python 3 environment comes with many helpful analytics libraries installed\n",
        "# It is defined by the kaggle/python Docker image: https://github.com/kaggle/docker-python\n",
        "# For example, here's several helpful packages to load\n",
        "\n",
        "import numpy as np # linear algebra\n",
        "import pandas as pd # data processing, CSV file I/O (e.g. pd.read_csv)\n",
        "\n",
        "# Input data files are available in the read-only \"../input/\" directory\n",
        "# For example, running this (by clicking run or pressing Shift+Enter) will list all files under the input directory\n",
        "\n",
        "import os\n",
        "for dirname, _, filenames in os.walk('/kaggle/input'):\n",
        "    for filename in filenames:\n",
        "        print(os.path.join(dirname, filename))\n",
        "\n",
        "# You can write up to 20GB to the current directory (/kaggle/working/) that gets preserved as output when you create a version using \"Save & Run All\"\n",
        "# You can also write temporary files to /kaggle/temp/, but they won't be saved outside of the current session"
      ],
      "metadata": {
        "trusted": true,
        "execution": {
          "execution_failed": "2025-01-05T16:08:01.939Z"
        },
        "id": "70z2vddRn2H6"
      },
      "outputs": [],
      "execution_count": null
    },
    {
      "cell_type": "code",
      "source": [
        "model_path = '/kaggle/input/tryresnet/pytorch/default/1/resnet50_cassava.pth'\n"
      ],
      "metadata": {
        "trusted": true,
        "execution": {
          "execution_failed": "2025-01-05T16:08:01.939Z"
        },
        "id": "VG368dJrn2H7"
      },
      "outputs": [],
      "execution_count": null
    },
    {
      "cell_type": "code",
      "source": [
        "import torch\n",
        "from torchvision.models import resnet50\n",
        "\n",
        "# Define the model architecture\n",
        "model = resnet50(pretrained=False)\n",
        "\n",
        "# Modify the fully connected layer to match the saved model's architecture\n",
        "num_classes = 5  # Adjust this to match your dataset\n",
        "model.fc = torch.nn.Linear(model.fc.in_features, num_classes)\n",
        "\n",
        "# Load the saved weights\n",
        "model_path = '/kaggle/input/tryresnet/pytorch/default/1/resnet50_cassava.pth'\n",
        "model.load_state_dict(torch.load(model_path))\n",
        "\n",
        "# Set the model to evaluation mode\n",
        "model.eval()\n",
        "\n",
        "print(\"Model loaded successfully!\")\n"
      ],
      "metadata": {
        "trusted": true,
        "execution": {
          "execution_failed": "2025-01-05T16:08:01.939Z"
        },
        "id": "Dz2OFPfWn2H7"
      },
      "outputs": [],
      "execution_count": null
    },
    {
      "cell_type": "code",
      "source": [
        "from IPython.display import FileLink\n",
        "\n",
        "FileLink('/kaggle/working/nooraliikhwan/tryresnet.pth')\n"
      ],
      "metadata": {
        "trusted": true,
        "execution": {
          "execution_failed": "2025-01-05T16:08:01.939Z"
        },
        "id": "kc6oMT7un2H7"
      },
      "outputs": [],
      "execution_count": null
    },
    {
      "cell_type": "markdown",
      "source": [
        "# Model Archiecture"
      ],
      "metadata": {
        "id": "SywN55Man2H7"
      }
    },
    {
      "cell_type": "code",
      "source": [
        "# Print the model architecture\n",
        "print(model)"
      ],
      "metadata": {
        "trusted": true,
        "execution": {
          "execution_failed": "2025-01-05T16:08:01.939Z"
        },
        "id": "hqO6C7Sbn2H7"
      },
      "outputs": [],
      "execution_count": null
    },
    {
      "cell_type": "markdown",
      "source": [
        "# Model Parameters"
      ],
      "metadata": {
        "id": "ZVrB-3pAn2H7"
      }
    },
    {
      "cell_type": "code",
      "source": [
        "# Count total parameters\n",
        "total_params = sum(p.numel() for p in model.parameters())\n",
        "# Count trainable parameters\n",
        "trainable_params = sum(p.numel() for p in model.parameters() if p.requires_grad)\n",
        "\n",
        "print(f\"Total parameters: {total_params}\")\n",
        "print(f\"Trainable parameters: {trainable_params}\")\n"
      ],
      "metadata": {
        "trusted": true,
        "execution": {
          "execution_failed": "2025-01-05T16:08:01.939Z"
        },
        "id": "FzwA6i3Kn2H7"
      },
      "outputs": [],
      "execution_count": null
    },
    {
      "cell_type": "code",
      "source": [
        "# Access weights and biases of the final fully connected layer\n",
        "print(\"Weights of final layer:\", model.fc.weight)\n",
        "print(\"Biases of final layer:\", model.fc.bias)"
      ],
      "metadata": {
        "trusted": true,
        "execution": {
          "execution_failed": "2025-01-05T16:08:01.939Z"
        },
        "id": "TB6EfRoWn2H8"
      },
      "outputs": [],
      "execution_count": null
    },
    {
      "cell_type": "markdown",
      "source": [
        "# ---------------"
      ],
      "metadata": {
        "id": "hV3-FeNTn2H8"
      }
    },
    {
      "cell_type": "code",
      "source": [
        "# Access the Dataset\n",
        "import os\n",
        "\n",
        "# List all files in the input directory\n",
        "input_dir = '/kaggle/input/cassava-leaf-disease-classification'\n",
        "for item in os.listdir(input_dir):\n",
        "    print(item)\n"
      ],
      "metadata": {
        "trusted": true,
        "execution": {
          "execution_failed": "2025-01-05T16:08:01.939Z"
        },
        "id": "izXvOKDOn2H8"
      },
      "outputs": [],
      "execution_count": null
    },
    {
      "cell_type": "code",
      "source": [
        "import pandas as pd\n",
        "\n",
        "# Load the CSV file\n",
        "csv_file = '/kaggle/input/cassava-leaf-disease-classification/train.csv'\n",
        "df = pd.read_csv(csv_file)\n",
        "\n",
        "# Preview the dataset\n",
        "print(df.head())\n"
      ],
      "metadata": {
        "trusted": true,
        "execution": {
          "execution_failed": "2025-01-05T16:08:01.939Z"
        },
        "id": "2-kMwLCvn2H8"
      },
      "outputs": [],
      "execution_count": null
    },
    {
      "cell_type": "markdown",
      "source": [
        "# Model Evaluation - test"
      ],
      "metadata": {
        "id": "BzFvcFVPn2IA"
      }
    },
    {
      "cell_type": "code",
      "source": [
        "test_dataset = CassavaDataset(csv_file=test_csv_file, img_dir='/kaggle/input/cassava-leaf-disease-classification/train_images', transform=preprocess)"
      ],
      "metadata": {
        "trusted": true,
        "execution": {
          "execution_failed": "2025-01-05T16:08:01.939Z"
        },
        "id": "3CbWY040n2IA"
      },
      "outputs": [],
      "execution_count": null
    },
    {
      "cell_type": "code",
      "source": [
        "# Save the train split to a CSV file\n",
        "train_csv_file = '/kaggle/working/train.csv'\n",
        "train_df.to_csv(train_csv_file, index=False)\n",
        "\n",
        "# Create dataset objects using file paths\n",
        "train_dataset = CassavaDataset(csv_file=train_csv_file, img_dir=img_dir, transform=preprocess)\n",
        "test_dataset = CassavaDataset(csv_file=test_csv_file, img_dir=img_dir, transform=preprocess)\n"
      ],
      "metadata": {
        "trusted": true,
        "execution": {
          "execution_failed": "2025-01-05T16:08:01.94Z"
        },
        "id": "3FGyTFgQn2IB"
      },
      "outputs": [],
      "execution_count": null
    },
    {
      "cell_type": "code",
      "source": [
        "import os\n",
        "import pandas as pd\n",
        "import torch\n",
        "from PIL import Image\n",
        "from torchvision import transforms\n",
        "from torch.utils.data import Dataset, DataLoader, random_split\n",
        "from torchvision import models\n",
        "from torchvision.models import ResNet50_Weights\n",
        "import torch.nn as nn\n",
        "import torch.optim as optim\n",
        "\n",
        "# Define the custom dataset class\n",
        "class CassavaDataset(Dataset):\n",
        "    def __init__(self, csv_file, img_dir, transform=None):\n",
        "        self.data = pd.read_csv(csv_file)\n",
        "        self.img_dir = img_dir\n",
        "        self.transform = transform\n",
        "\n",
        "    def __len__(self):\n",
        "        return len(self.data)\n",
        "\n",
        "    def __getitem__(self, idx):\n",
        "        img_name = os.path.join(self.img_dir, self.data.iloc[idx, 0])\n",
        "        image = Image.open(img_name)\n",
        "        label = int(self.data.iloc[idx, 1])\n",
        "\n",
        "        if self.transform:\n",
        "            image = self.transform(image)\n",
        "\n",
        "        return image, label\n",
        "\n",
        "# Preprocessing transformations\n",
        "preprocess = transforms.Compose([\n",
        "    transforms.Resize((224, 224)),\n",
        "    transforms.ToTensor(),\n",
        "    transforms.Normalize(mean=[0.485, 0.456, 0.406], std=[0.229, 0.224, 0.225])\n",
        "])\n",
        "\n",
        "# Load the dataset\n",
        "input_dir = '/kaggle/input/cassava-leaf-disease-classification'\n",
        "csv_file = os.path.join(input_dir, 'train.csv')\n",
        "img_dir = os.path.join(input_dir, 'train_images')\n",
        "\n",
        "# Read and shuffle the dataset\n",
        "df = pd.read_csv(csv_file).sample(frac=1, random_state=42).reset_index(drop=True)\n",
        "\n",
        "# Split the dataset into train and test\n",
        "train_df, test_df = train_test_split(df, test_size=0.2, random_state=42)\n",
        "\n",
        "# Save the train split to a CSV file\n",
        "train_csv_file = '/kaggle/working/train.csv'\n",
        "train_df.to_csv(train_csv_file, index=False)\n",
        "\n",
        "# Create dataset objects using file paths\n",
        "train_dataset = CassavaDataset(csv_file=train_csv_file, img_dir=img_dir, transform=preprocess)\n",
        "test_dataset = CassavaDataset(csv_file=test_csv_file, img_dir=img_dir, transform=preprocess)\n",
        "\n",
        "# Define DataLoaders\n",
        "batch_size = 32\n",
        "train_loader = DataLoader(train_dataset, batch_size=batch_size, shuffle=True)\n",
        "test_loader = DataLoader(test_dataset, batch_size=batch_size, shuffle=False)\n",
        "\n",
        "# Define the model\n",
        "model = models.resnet50(weights=ResNet50_Weights.DEFAULT)\n",
        "for param in model.parameters():\n",
        "    param.requires_grad = False\n",
        "model.fc = nn.Linear(model.fc.in_features, 5)\n",
        "\n",
        "# Define optimizer and loss\n",
        "optimizer = optim.Adam(model.fc.parameters(), lr=0.0001)\n",
        "criterion = nn.CrossEntropyLoss()\n",
        "\n",
        "# Training loop\n",
        "model.train()\n",
        "num_epochs = 1\n",
        "for epoch in range(num_epochs):\n",
        "    for images, labels in train_loader:\n",
        "        optimizer.zero_grad()\n",
        "        outputs = model(images)\n",
        "        loss = criterion(outputs, labels)\n",
        "        loss.backward()\n",
        "        optimizer.step()\n",
        "    print(f\"Epoch [{epoch+1}/{num_epochs}], Loss: {loss.item():.4f}\")\n"
      ],
      "metadata": {
        "trusted": true,
        "execution": {
          "execution_failed": "2025-01-05T16:08:01.94Z"
        },
        "id": "1KT3wx8qn2IB"
      },
      "outputs": [],
      "execution_count": null
    },
    {
      "cell_type": "code",
      "source": [
        "import os\n",
        "import pandas as pd\n",
        "import torch\n",
        "from PIL import Image\n",
        "from torchvision import transforms\n",
        "from torch.utils.data import Dataset, DataLoader\n",
        "from sklearn.model_selection import train_test_split\n",
        "from torchvision import models\n",
        "from torchvision.models import ResNet50_Weights\n",
        "import torch.nn as nn\n",
        "import torch.optim as optim\n",
        "\n",
        "# Define the custom dataset class\n",
        "class CassavaDataset(Dataset):\n",
        "    def __init__(self, csv_file, img_dir, transform=None):\n",
        "        self.data = pd.read_csv(csv_file)\n",
        "        self.img_dir = img_dir\n",
        "        self.transform = transform\n",
        "\n",
        "    def __len__(self):\n",
        "        return len(self.data)\n",
        "\n",
        "    def __getitem__(self, idx):\n",
        "        img_name = os.path.join(self.img_dir, self.data.iloc[idx, 0])\n",
        "        image = Image.open(img_name)\n",
        "        label = int(self.data.iloc[idx, 1])\n",
        "\n",
        "        if self.transform:\n",
        "            image = self.transform(image)\n",
        "\n",
        "        return image, label\n",
        "\n",
        "# Preprocessing transformations\n",
        "preprocess = transforms.Compose([\n",
        "    transforms.Resize((224, 224)),\n",
        "    transforms.ToTensor(),\n",
        "    transforms.Normalize(mean=[0.485, 0.456, 0.406], std=[0.229, 0.224, 0.225])\n",
        "])\n",
        "\n",
        "# Load the dataset\n",
        "input_dir = '/kaggle/input/cassava-leaf-disease-classification'\n",
        "csv_file = os.path.join(input_dir, 'train.csv')\n",
        "img_dir = os.path.join(input_dir, 'train_images')\n",
        "\n",
        "# Read and shuffle the dataset\n",
        "df = pd.read_csv(csv_file).sample(frac=1, random_state=42).reset_index(drop=True)\n",
        "\n",
        "# Split the dataset into train and test\n",
        "train_df, test_df = train_test_split(df, test_size=0.2, random_state=42)\n",
        "\n",
        "# Save the splits to CSV files\n",
        "train_csv_file = '/kaggle/working/train.csv'\n",
        "test_csv_file = '/kaggle/working/test.csv'\n",
        "train_df.to_csv(train_csv_file, index=False)\n",
        "test_df.to_csv(test_csv_file, index=False)\n",
        "\n",
        "# Create dataset objects using file paths\n",
        "train_dataset = CassavaDataset(csv_file=train_csv_file, img_dir=img_dir, transform=preprocess)\n",
        "test_dataset = CassavaDataset(csv_file=test_csv_file, img_dir=img_dir, transform=preprocess)\n",
        "\n",
        "# Define DataLoaders\n",
        "batch_size = 32\n",
        "train_loader = DataLoader(train_dataset, batch_size=batch_size, shuffle=True)\n",
        "test_loader = DataLoader(test_dataset, batch_size=batch_size, shuffle=False)\n",
        "\n",
        "# Define the model\n",
        "model = models.resnet50(weights=ResNet50_Weights.DEFAULT)\n",
        "for param in model.parameters():\n",
        "    param.requires_grad = False\n",
        "model.fc = nn.Linear(model.fc.in_features, 5)\n",
        "\n",
        "# Define optimizer and loss\n",
        "optimizer = optim.Adam(model.fc.parameters(), lr=0.0001)\n",
        "criterion = nn.CrossEntropyLoss()\n",
        "\n",
        "# Training loop\n",
        "model.train()\n",
        "num_epochs = 1\n",
        "for epoch in range(num_epochs):\n",
        "    for images, labels in train_loader:\n",
        "        optimizer.zero_grad()\n",
        "        outputs = model(images)\n",
        "        loss = criterion(outputs, labels)\n",
        "        loss.backward()\n",
        "        optimizer.step()\n",
        "    print(f\"Epoch [{epoch+1}/{num_epochs}], Loss: {loss.item():.4f}\")\n"
      ],
      "metadata": {
        "trusted": true,
        "execution": {
          "execution_failed": "2025-01-05T16:08:01.94Z"
        },
        "id": "Dip259Qmn2IB"
      },
      "outputs": [],
      "execution_count": null
    },
    {
      "cell_type": "markdown",
      "source": [
        "# Per-Class Metrics"
      ],
      "metadata": {
        "id": "JmjGh00vn2IB"
      }
    },
    {
      "cell_type": "code",
      "source": [
        "from sklearn.metrics import classification_report, confusion_matrix\n",
        "\n",
        "# Generate classification report\n",
        "print(\"Classification Report:\")\n",
        "print(classification_report(all_labels, all_predictions, target_names=class_names))\n",
        "\n",
        "# Generate confusion matrix\n",
        "print(\"Confusion Matrix:\")\n",
        "print(confusion_matrix(all_labels, all_predictions))\n"
      ],
      "metadata": {
        "trusted": true,
        "execution": {
          "execution_failed": "2025-01-05T16:08:01.94Z"
        },
        "id": "QGK4D8usn2IB"
      },
      "outputs": [],
      "execution_count": null
    },
    {
      "cell_type": "code",
      "source": [
        "from sklearn.metrics import classification_report, confusion_matrix\n",
        "\n",
        "# Set the model to evaluation mode\n",
        "model.eval()\n",
        "\n",
        "# Initialize lists to store labels and predictions\n",
        "all_labels = []\n",
        "all_predictions = []\n",
        "\n",
        "# Perform evaluation on the test dataset\n",
        "with torch.no_grad():\n",
        "    for images, labels in test_loader:\n",
        "        outputs = model(images)\n",
        "        _, preds = torch.max(outputs, 1)  # Get the class with the highest score\n",
        "        all_labels.extend(labels.cpu().numpy())  # Add true labels\n",
        "        all_predictions.extend(preds.cpu().numpy())  # Add predicted labels\n",
        "\n",
        "# Define the class names (modify as per your dataset)\n",
        "class_names = ['Class 0', 'Class 1', 'Class 2', 'Class 3', 'Class 4']\n",
        "\n",
        "# Generate classification report\n",
        "print(\"Classification Report:\")\n",
        "print(classification_report(all_labels, all_predictions, target_names=class_names))\n",
        "\n",
        "# Generate confusion matrix\n",
        "print(\"Confusion Matrix:\")\n",
        "print(confusion_matrix(all_labels, all_predictions))\n"
      ],
      "metadata": {
        "trusted": true,
        "execution": {
          "execution_failed": "2025-01-05T16:08:01.94Z"
        },
        "id": "rVnY2eUjn2IB"
      },
      "outputs": [],
      "execution_count": null
    },
    {
      "cell_type": "code",
      "source": [],
      "metadata": {
        "trusted": true,
        "id": "rISCPnYSn2IB"
      },
      "outputs": [],
      "execution_count": null
    }
  ]
}