{
  "metadata": {
    "kernelspec": {
      "language": "python",
      "display_name": "Python 3",
      "name": "python3"
    },
    "language_info": {
      "name": "python",
      "version": "3.10.14",
      "mimetype": "text/x-python",
      "codemirror_mode": {
        "name": "ipython",
        "version": 3
      },
      "pygments_lexer": "ipython3",
      "nbconvert_exporter": "python",
      "file_extension": ".py"
    },
    "kaggle": {
      "accelerator": "none",
      "dataSources": [
        {
          "sourceId": 13836,
          "databundleVersionId": 1718836,
          "sourceType": "competition"
        }
      ],
      "dockerImageVersionId": 30775,
      "isInternetEnabled": true,
      "language": "python",
      "sourceType": "notebook",
      "isGpuEnabled": false
    },
    "colab": {
      "name": "cassava-leaf-disease-classification",
      "provenance": [],
      "include_colab_link": true
    }
  },
  "nbformat_minor": 0,
  "nbformat": 4,
  "cells": [
    {
      "cell_type": "markdown",
      "metadata": {
        "id": "view-in-github",
        "colab_type": "text"
      },
      "source": [
        "<a href=\"https://colab.research.google.com/github/aliikhwan99/cassava-leaf-disease-classification/blob/main/cassava_leaf_disease_classification.ipynb\" target=\"_parent\"><img src=\"https://colab.research.google.com/assets/colab-badge.svg\" alt=\"Open In Colab\"/></a>"
      ]
    },
    {
      "source": [
        "# IMPORTANT: SOME KAGGLE DATA SOURCES ARE PRIVATE\n",
        "# RUN THIS CELL IN ORDER TO IMPORT YOUR KAGGLE DATA SOURCES.\n",
        "import kagglehub\n",
        "kagglehub.login()\n"
      ],
      "metadata": {
        "id": "ylybfQnVaQeD"
      },
      "cell_type": "code",
      "outputs": [],
      "execution_count": null
    },
    {
      "source": [
        "# IMPORTANT: RUN THIS CELL IN ORDER TO IMPORT YOUR KAGGLE DATA SOURCES,\n",
        "# THEN FEEL FREE TO DELETE THIS CELL.\n",
        "# NOTE: THIS NOTEBOOK ENVIRONMENT DIFFERS FROM KAGGLE'S PYTHON\n",
        "# ENVIRONMENT SO THERE MAY BE MISSING LIBRARIES USED BY YOUR\n",
        "# NOTEBOOK.\n",
        "\n",
        "cassava_leaf_disease_classification_path = kagglehub.competition_download('cassava-leaf-disease-classification')\n",
        "\n",
        "print('Data source import complete.')\n"
      ],
      "metadata": {
        "id": "hXZmD4k7aQeH"
      },
      "cell_type": "code",
      "outputs": [],
      "execution_count": null
    },
    {
      "cell_type": "code",
      "source": [
        "import numpy as np\n",
        "import pandas as pd\n",
        "import matplotlib as plt\n",
        "import seaborn as sns\n",
        "import os\n",
        "import shutil"
      ],
      "metadata": {
        "_uuid": "8f2839f25d086af736a60e9eeb907d3b93b6e0e5",
        "_cell_guid": "b1076dfc-b9ad-4769-8c92-a6c4dae69d19",
        "trusted": true,
        "id": "UQi3v0gfaQeK"
      },
      "outputs": [],
      "execution_count": null
    },
    {
      "cell_type": "markdown",
      "source": [
        "# Access the Dataset"
      ],
      "metadata": {
        "id": "3n_5UcYvaQeM"
      }
    },
    {
      "cell_type": "code",
      "source": [
        "# Acces teh Dataset\n",
        "import os\n",
        "\n",
        "#list all files in the input directory\n",
        "input_dir = '/kaggle/input/cassava-leaf-disease-classification'\n",
        "os.listdir(input_dir)"
      ],
      "metadata": {
        "trusted": true,
        "id": "mOvwP8THaQeQ"
      },
      "outputs": [],
      "execution_count": null
    },
    {
      "cell_type": "markdown",
      "source": [
        "# Load CSV and JSON Files"
      ],
      "metadata": {
        "id": "37ia8DRvaQeR"
      }
    },
    {
      "cell_type": "code",
      "source": [
        "import pandas as pd\n",
        "import json\n",
        "\n",
        "# Load the train.csv file\n",
        "train_df = pd.read_csv(os.path.join(input_dir, 'train.csv'))\n",
        "\n",
        "# Load the JSON file for mapping labels to diseases\n",
        "with open(os.path.join(input_dir, 'label_num_to_disease_map.json')) as f:\n",
        "    label_map = json.load(f)\n",
        "\n",
        "# Display the first few rows of the training data\n",
        "print(train_df.head())\n",
        "\n",
        "# Display the label mapping\n",
        "print(label_map)\n"
      ],
      "metadata": {
        "trusted": true,
        "id": "qJzm72NHaQeT"
      },
      "outputs": [],
      "execution_count": null
    },
    {
      "cell_type": "markdown",
      "source": [
        "# Load and Visualize Images"
      ],
      "metadata": {
        "id": "quBoYlQoaQeV"
      }
    },
    {
      "cell_type": "code",
      "source": [
        "import matplotlib.pyplot as plt\n",
        "from PIL import Image\n",
        "\n",
        "# Function to load and display an image\n",
        "def load_and_display_image(image_id):\n",
        "    image_path = os.path.join(input_dir, 'train_images', image_id)\n",
        "    img = Image.open(image_path)\n",
        "    plt.imshow(img)\n",
        "    plt.axis('off')  # Hide axes\n",
        "    plt.show()\n",
        "\n",
        "# Display a sample image\n",
        "sample_image_id = train_df['image_id'].iloc[0]\n",
        "load_and_display_image(sample_image_id)\n"
      ],
      "metadata": {
        "trusted": true,
        "id": "cUyVWYqvaQeW"
      },
      "outputs": [],
      "execution_count": null
    },
    {
      "cell_type": "markdown",
      "source": [
        "# Preprocess Images"
      ],
      "metadata": {
        "id": "pl1WzJPZaQeX"
      }
    },
    {
      "cell_type": "code",
      "source": [
        "from PIL import Image\n",
        "from torchvision import transforms\n",
        "\n",
        "# Define preprocessing transformations\n",
        "preprocess = transforms.Compose([\n",
        "    transforms.Resize((224, 224)),  # Resize images to 224x224\n",
        "    transforms.ToTensor(),          # Convert images to PyTorch tensors\n",
        "    transforms.Normalize(mean=[0.485, 0.456, 0.406], std=[0.229, 0.224, 0.225])\n",
        "])\n",
        "\n",
        "# Function to load an image using PIL\n",
        "def load_image(image_id):\n",
        "    image_path = os.path.join('/kaggle/input/cassava-leaf-disease-classification/train_images', image_id)\n",
        "    img = Image.open(image_path)\n",
        "    return img\n",
        "\n",
        "# Example: Load and preprocess the sample image\n",
        "sample_image_id = train_df['image_id'].iloc[0]  # Replace with actual image ID if needed\n",
        "img = load_image(sample_image_id)               # Load image\n",
        "img_tensor = preprocess(img)                    # Apply preprocessing transformations\n",
        "\n",
        "# Check the shape of the processed image tensor\n",
        "print(img_tensor.shape)\n"
      ],
      "metadata": {
        "trusted": true,
        "id": "MnzCTpJyaQeY"
      },
      "outputs": [],
      "execution_count": null
    },
    {
      "cell_type": "markdown",
      "source": [
        "# Define the Model"
      ],
      "metadata": {
        "id": "P4_0uOadaQeY"
      }
    },
    {
      "cell_type": "code",
      "source": [
        "import torch\n",
        "import torch.nn as nn\n",
        "import torch.optim as optim\n",
        "from torch.utils.data import DataLoader\n",
        "import torchvision.transforms as transforms\n",
        "\n",
        "# Define your CNN model (simple architecture for image classification)\n",
        "class CassavaCNN(nn.Module):\n",
        "    def __init__(self, num_classes=5):  # Assuming 5 classes for Cassava leaf disease\n",
        "        super(CassavaCNN, self).__init__()\n",
        "\n",
        "        # Define the layers of the CNN\n",
        "        self.conv1 = nn.Conv2d(in_channels=3, out_channels=32, kernel_size=3, stride=1, padding=1)\n",
        "        self.conv2 = nn.Conv2d(32, 64, kernel_size=3, stride=1, padding=1)\n",
        "        self.conv3 = nn.Conv2d(64, 128, kernel_size=3, stride=1, padding=1)\n",
        "\n",
        "        self.pool = nn.MaxPool2d(kernel_size=2, stride=2, padding=0)\n",
        "\n",
        "        # Fully connected layers\n",
        "        self.fc1 = nn.Linear(128 * 8 * 8, 512)  # Assuming input image size is 64x64\n",
        "        self.fc2 = nn.Linear(512, num_classes)\n",
        "\n",
        "        # Dropout layer\n",
        "        self.dropout = nn.Dropout(0.5)\n",
        "\n",
        "    def forward(self, x):\n",
        "        x = self.pool(torch.relu(self.conv1(x)))\n",
        "        x = self.pool(torch.relu(self.conv2(x)))\n",
        "        x = self.pool(torch.relu(self.conv3(x)))\n",
        "\n",
        "        x = x.view(-1, 128 * 8 * 8)  # Flatten the feature map\n",
        "\n",
        "        x = torch.relu(self.fc1(x))\n",
        "        x = self.dropout(x)\n",
        "        x = self.fc2(x)\n",
        "\n",
        "        return x\n"
      ],
      "metadata": {
        "trusted": true,
        "id": "2z1DKU_SaQeZ"
      },
      "outputs": [],
      "execution_count": null
    },
    {
      "cell_type": "markdown",
      "source": [
        "# Prepare Dataset and DataLoader"
      ],
      "metadata": {
        "id": "kMRAbcMjaQea"
      }
    },
    {
      "cell_type": "code",
      "source": [
        "import os\n",
        "print(os.listdir(\"/kaggle/input\"))\n"
      ],
      "metadata": {
        "trusted": true,
        "id": "-MmPrrBzaQea"
      },
      "outputs": [],
      "execution_count": null
    },
    {
      "cell_type": "code",
      "source": [
        "import os\n",
        "print(os.listdir(\"/kaggle/input/cassava-leaf-disease-classification\"))\n"
      ],
      "metadata": {
        "trusted": true,
        "id": "eaTXfeaiaQea"
      },
      "outputs": [],
      "execution_count": null
    },
    {
      "cell_type": "code",
      "source": [
        "import pandas as pd\n",
        "from PIL import Image\n",
        "from torch.utils.data import Dataset, DataLoader, random_split\n",
        "import torchvision.transforms as transforms\n",
        "\n",
        "# Load the CSV with image file names and labels\n",
        "train_df = pd.read_csv('/kaggle/input/cassava-leaf-disease-classification/train.csv')\n",
        "\n",
        "# Shuffle the dataset and select the first 1000 samples\n",
        "train_df = train_df.sample(frac=1, random_state=42).reset_index(drop=True)  # Shuffle the dataset\n",
        "train_df = train_df[:1000]  # Select the first 1000 samples\n",
        "\n",
        "# Custom Dataset class to handle loading of images and their labels\n",
        "class CassavaDataset(Dataset):\n",
        "    def __init__(self, data_frame, root_dir, transform=None):\n",
        "        self.data_frame = data_frame\n",
        "        self.root_dir = root_dir\n",
        "        self.transform = transform\n",
        "\n",
        "    def __len__(self):\n",
        "        return len(self.data_frame)\n",
        "\n",
        "    def __getitem__(self, idx):\n",
        "        img_name = self.data_frame.iloc[idx, 0]  # Assuming first column contains image names\n",
        "        img_path = f\"{self.root_dir}/{img_name}\"\n",
        "        image = Image.open(img_path)\n",
        "\n",
        "        label = self.data_frame.iloc[idx, 1]  # Assuming second column contains labels\n",
        "\n",
        "        if self.transform:\n",
        "            image = self.transform(image)\n",
        "\n",
        "        return image, label\n",
        "\n",
        "# Define transform\n",
        "transform = transforms.Compose([\n",
        "    transforms.Resize((224, 224)),\n",
        "    transforms.ToTensor(),\n",
        "    transforms.Normalize(mean=[0.485, 0.456, 0.406], std=[0.229, 0.224, 0.225])\n",
        "])\n",
        "\n",
        "# Define batch size\n",
        "batch_size = 32  # You can adjust this value depending on your memory constraints\n",
        "\n",
        "# Create the dataset using the first 1000 samples\n",
        "train_dataset = CassavaDataset(\n",
        "    data_frame=train_df,\n",
        "    root_dir='/kaggle/input/cassava-leaf-disease-classification/train_images',\n",
        "    transform=transform\n",
        ")\n",
        "\n",
        "# Split the dataset into 800 for training and 200 for testing\n",
        "train_size = 800\n",
        "test_size = 200\n",
        "train_subset, test_subset = random_split(train_dataset, [train_size, test_size])\n",
        "\n",
        "# Create DataLoaders for training and testing\n",
        "train_loader = DataLoader(dataset=train_subset, batch_size=batch_size, shuffle=True)\n",
        "test_loader = DataLoader(dataset=test_subset, batch_size=batch_size, shuffle=False)\n",
        "\n",
        "# Now 'train_loader' contains 800 samples for training and 'test_loader' contains 200 samples for testing\n"
      ],
      "metadata": {
        "trusted": true,
        "id": "yQS44yY-aQeb"
      },
      "outputs": [],
      "execution_count": null
    },
    {
      "cell_type": "code",
      "source": [
        "import os\n",
        "import pandas as pd\n",
        "from PIL import Image\n",
        "import torch\n",
        "from torch.utils.data import Dataset, DataLoader\n",
        "from torchvision import transforms\n",
        "\n",
        "# Define the custom dataset class\n",
        "class CassavaDataset(Dataset):\n",
        "    def __init__(self, csv_file, img_dir, transform=None):\n",
        "        self.data = pd.read_csv(csv_file)\n",
        "        self.img_dir = img_dir\n",
        "        self.transform = transform\n",
        "\n",
        "    def __len__(self):\n",
        "        return len(self.data)\n",
        "\n",
        "    def __getitem__(self, idx):\n",
        "        img_name = os.path.join(self.img_dir, self.data.iloc[idx, 0])\n",
        "        image = Image.open(img_name)\n",
        "        label = int(self.data.iloc[idx, 1])\n",
        "\n",
        "        if self.transform:\n",
        "            image = self.transform(image)\n",
        "\n",
        "        return image, label\n",
        "\n",
        "# Define preprocessing\n",
        "preprocess = transforms.Compose([\n",
        "    transforms.Resize((224, 224)),\n",
        "    transforms.ToTensor(),\n",
        "    transforms.Normalize(mean=[0.485, 0.456, 0.406], std=[0.229, 0.224, 0.225])\n",
        "])\n",
        "\n",
        "# Paths to CSV and image directory\n",
        "csv_file = '/kaggle/input/cassava-leaf-disease-classification/train.csv'\n",
        "img_dir = '/kaggle/input/cassava-leaf-disease-classification/train_images'\n",
        "\n",
        "# Create the dataset\n",
        "train_dataset = CassavaDataset(csv_file=csv_file, img_dir=img_dir, transform=preprocess)\n",
        "\n",
        "# Create the DataLoader\n",
        "batch_size = 32\n",
        "dataloader = DataLoader(train_dataset, batch_size=batch_size, shuffle=True)\n",
        "\n",
        "# Example usage (loop through one batch of data)\n",
        "for images, labels in dataloader:\n",
        "    print(images.shape, labels.shape)  # Should print: torch.Size([32, 3, 224, 224]), torch.Size([32])\n",
        "    break\n"
      ],
      "metadata": {
        "trusted": true,
        "id": "FGKA5uUVaQec"
      },
      "outputs": [],
      "execution_count": null
    },
    {
      "cell_type": "code",
      "source": [
        "import torch\n",
        "import torch.nn as nn\n",
        "import torch.optim as optim\n",
        "from torchvision import models\n",
        "\n",
        "# Load a pre-trained model\n",
        "model = models.resnet50(pretrained=True)\n",
        "model.fc = nn.Linear(model.fc.in_features, 5)  # 5 classes for the diseases\n",
        "\n",
        "# Define loss and optimizer\n",
        "criterion = nn.CrossEntropyLoss()\n",
        "optimizer = optim.Adam(model.parameters(), lr=0.0001)\n",
        "\n",
        "# Set the model to training mode\n",
        "model.train()\n",
        "\n",
        "# Define number of epochs\n",
        "num_epochs = 1  # You can adjust this value as needed\n",
        "\n",
        "# Training loop (simplified example)\n",
        "for epoch in range(num_epochs):\n",
        "    for images, labels in dataloader:  # Use a DataLoader to load your data\n",
        "        optimizer.zero_grad()\n",
        "        outputs = model(images)\n",
        "        loss = criterion(outputs, labels)\n",
        "        loss.backward()\n",
        "        optimizer.step()\n",
        "\n",
        "    print(f\"Epoch [{epoch+1}/{num_epochs}], Loss: {loss.item():.4f}\")\n"
      ],
      "metadata": {
        "trusted": true,
        "id": "mIYw4kRjaQed"
      },
      "outputs": [],
      "execution_count": null
    },
    {
      "cell_type": "code",
      "source": [],
      "metadata": {
        "trusted": true,
        "id": "p2K_9Me-aQee"
      },
      "outputs": [],
      "execution_count": null
    },
    {
      "cell_type": "code",
      "source": [
        "# Ensure the lengths of test_image_ids and predictions match\n",
        "print(f\"Number of test images (expected): 1000\")\n",
        "print(f\"Number of test image IDs: {len(test_image_ids)}\")\n",
        "print(f\"Number of predictions: {len(predictions)}\")\n",
        "\n",
        "# Check if they are different\n",
        "if len(test_image_ids) != len(predictions) or len(test_image_ids) != 1000:\n",
        "    print(\"Mismatch detected or incorrect number of samples!\")\n",
        "\n",
        "    # Print some sample information for debugging\n",
        "    print(\"First few image IDs:\", test_image_ids[:5])\n",
        "    print(\"First few predictions:\", predictions[:5])\n",
        "\n",
        "    # Check the size of the test DataLoader batches\n",
        "    num_images_processed = 0\n",
        "    all_predictions = []\n",
        "\n",
        "    with torch.no_grad():\n",
        "        for i, batch in enumerate(test_loader):\n",
        "            images, _ = batch  # Assuming the test DataLoader has labels as _ placeholder\n",
        "            batch_size = images.size(0)\n",
        "            num_images_processed += batch_size  # Count how many images are processed\n",
        "\n",
        "            print(f\"Batch {i}: Batch size = {batch_size}, Total images processed so far = {num_images_processed}\")\n",
        "\n",
        "            # Generate predictions for the current batch\n",
        "            preds = model(images)  # Assuming you're using model for prediction\n",
        "            preds = preds.argmax(dim=1).cpu().numpy()  # Convert to class labels if necessary\n",
        "\n",
        "            all_predictions.extend(preds)  # Append predictions from the batch\n",
        "\n",
        "            print(f\"Predictions for Batch {i}: {len(preds)}\")  # Check number of predictions per batch\n",
        "\n",
        "    # Final check after processing all batches\n",
        "    print(f\"Total images processed: {num_images_processed}\")\n",
        "    print(f\"Total predictions made: {len(all_predictions)}\")\n",
        "\n",
        "    if len(all_predictions) != 1000:\n",
        "        print(\"Total predictions don't match the expected 1,000 samples!\")\n",
        "\n",
        "    # Raise error after diagnostic check\n",
        "    raise ValueError(\"Mismatch between the number of test image IDs and predictions.\")\n",
        "else:\n",
        "    print(\"Everything looks correct, proceeding to create submission.\")\n",
        "\n",
        "# Proceed to create the submission DataFrame only if lengths match\n",
        "submission_df = pd.DataFrame({\n",
        "    'image_id': test_image_ids[:1000],  # Ensure only 1,000 IDs are used\n",
        "    'label': predictions[:1000]         # Ensure only 1,000 predictions are used\n",
        "})\n",
        "\n",
        "# Save the submission file\n",
        "submission_df.to_csv('submission.csv', index=False)\n"
      ],
      "metadata": {
        "trusted": true,
        "id": "aGxB8TjhaQef"
      },
      "outputs": [],
      "execution_count": null
    },
    {
      "cell_type": "markdown",
      "source": [
        "# Evaluate the Model (Optional)"
      ],
      "metadata": {
        "id": "Hb3umWI9aQeg"
      }
    },
    {
      "cell_type": "code",
      "source": [
        "# Set the model to evaluation mode\n",
        "model.eval()\n",
        "\n",
        "# Disable gradient calculation for faster inference\n",
        "with torch.no_grad():\n",
        "    correct = 0\n",
        "    total = 0\n",
        "\n",
        "    for images, labels in test_loader:  # Assuming you have created a test_loader\n",
        "        outputs = model(images)\n",
        "        _, predicted = torch.max(outputs, 1)\n",
        "        total += labels.size(0)\n",
        "        correct += (predicted == labels).sum().item()\n",
        "\n",
        "    print(f\"Test Accuracy: {100 * correct / total:.2f}%\")\n"
      ],
      "metadata": {
        "trusted": true,
        "id": "gHy5LzxRaQeg"
      },
      "outputs": [],
      "execution_count": null
    },
    {
      "cell_type": "markdown",
      "source": [
        "# Save the Model (Optional)"
      ],
      "metadata": {
        "id": "okLUsVaoaQeh"
      }
    },
    {
      "cell_type": "code",
      "source": [
        "# Save the model checkpoint\n",
        "torch.save(model.state_dict(), 'resnet50_cassava.pth')\n"
      ],
      "metadata": {
        "trusted": true,
        "id": "G4acDSWQaQeh"
      },
      "outputs": [],
      "execution_count": null
    },
    {
      "cell_type": "code",
      "source": [
        "# Load the model checkpoint\n",
        "model.load_state_dict(torch.load('resnet50_cassava.pth'))\n"
      ],
      "metadata": {
        "trusted": true,
        "id": "RfFtw90SaQei"
      },
      "outputs": [],
      "execution_count": null
    }
  ]
}