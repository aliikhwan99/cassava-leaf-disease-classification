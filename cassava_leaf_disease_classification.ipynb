{
  "metadata": {
    "kernelspec": {
      "language": "python",
      "display_name": "Python 3",
      "name": "python3"
    },
    "language_info": {
      "name": "python",
      "version": "3.10.14",
      "mimetype": "text/x-python",
      "codemirror_mode": {
        "name": "ipython",
        "version": 3
      },
      "pygments_lexer": "ipython3",
      "nbconvert_exporter": "python",
      "file_extension": ".py"
    },
    "kaggle": {
      "accelerator": "none",
      "dataSources": [
        {
          "sourceId": 13836,
          "databundleVersionId": 1718836,
          "sourceType": "competition"
        }
      ],
      "dockerImageVersionId": 30775,
      "isInternetEnabled": true,
      "language": "python",
      "sourceType": "notebook",
      "isGpuEnabled": false
    },
    "colab": {
      "name": "cassava-leaf-disease-classification",
      "provenance": [],
      "include_colab_link": true
    }
  },
  "nbformat_minor": 0,
  "nbformat": 4,
  "cells": [
    {
      "cell_type": "markdown",
      "metadata": {
        "id": "view-in-github",
        "colab_type": "text"
      },
      "source": [
        "<a href=\"https://colab.research.google.com/github/aliikhwan99/cassava-leaf-disease-classification/blob/main/cassava_leaf_disease_classification.ipynb\" target=\"_parent\"><img src=\"https://colab.research.google.com/assets/colab-badge.svg\" alt=\"Open In Colab\"/></a>"
      ]
    },
    {
      "source": [
        "# IMPORTANT: SOME KAGGLE DATA SOURCES ARE PRIVATE\n",
        "# RUN THIS CELL IN ORDER TO IMPORT YOUR KAGGLE DATA SOURCES.\n",
        "import kagglehub\n",
        "kagglehub.login()\n"
      ],
      "metadata": {
        "id": "AnGUmHL9yihy"
      },
      "cell_type": "code",
      "outputs": [],
      "execution_count": null
    },
    {
      "source": [
        "# IMPORTANT: RUN THIS CELL IN ORDER TO IMPORT YOUR KAGGLE DATA SOURCES,\n",
        "# THEN FEEL FREE TO DELETE THIS CELL.\n",
        "# NOTE: THIS NOTEBOOK ENVIRONMENT DIFFERS FROM KAGGLE'S PYTHON\n",
        "# ENVIRONMENT SO THERE MAY BE MISSING LIBRARIES USED BY YOUR\n",
        "# NOTEBOOK.\n",
        "\n",
        "cassava_leaf_disease_classification_path = kagglehub.competition_download('cassava-leaf-disease-classification')\n",
        "\n",
        "print('Data source import complete.')\n"
      ],
      "metadata": {
        "id": "QR77UZGQyih0"
      },
      "cell_type": "code",
      "outputs": [],
      "execution_count": null
    },
    {
      "cell_type": "code",
      "source": [
        "import numpy as np\n",
        "import pandas as pd\n",
        "import matplotlib as plt\n",
        "import seaborn as sns\n",
        "import os\n",
        "import shutil"
      ],
      "metadata": {
        "_uuid": "8f2839f25d086af736a60e9eeb907d3b93b6e0e5",
        "_cell_guid": "b1076dfc-b9ad-4769-8c92-a6c4dae69d19",
        "execution": {
          "iopub.status.busy": "2024-10-26T15:44:57.268541Z",
          "iopub.execute_input": "2024-10-26T15:44:57.269025Z",
          "iopub.status.idle": "2024-10-26T15:44:57.275562Z",
          "shell.execute_reply.started": "2024-10-26T15:44:57.268966Z",
          "shell.execute_reply": "2024-10-26T15:44:57.274484Z"
        },
        "trusted": true,
        "id": "pKfvbXfYyih1"
      },
      "execution_count": null,
      "outputs": []
    },
    {
      "cell_type": "markdown",
      "source": [
        "# Access the Dataset"
      ],
      "metadata": {
        "id": "JJGclcfkyih1"
      }
    },
    {
      "cell_type": "code",
      "source": [
        "# Acces teh Dataset\n",
        "import os\n",
        "\n",
        "#list all files in the input directory\n",
        "input_dir = '/kaggle/input/cassava-leaf-disease-classification'\n",
        "os.listdir(input_dir)"
      ],
      "metadata": {
        "execution": {
          "iopub.status.busy": "2024-10-26T15:44:57.277889Z",
          "iopub.execute_input": "2024-10-26T15:44:57.278424Z",
          "iopub.status.idle": "2024-10-26T15:44:57.295583Z",
          "shell.execute_reply.started": "2024-10-26T15:44:57.278369Z",
          "shell.execute_reply": "2024-10-26T15:44:57.294481Z"
        },
        "trusted": true,
        "id": "kgrun0ZVyih2"
      },
      "execution_count": null,
      "outputs": []
    },
    {
      "cell_type": "markdown",
      "source": [
        "# Load CSV and JSON Files"
      ],
      "metadata": {
        "id": "liw9Hkptyih2"
      }
    },
    {
      "cell_type": "code",
      "source": [
        "import pandas as pd\n",
        "import json\n",
        "\n",
        "# Load the train.csv file\n",
        "train_df = pd.read_csv(os.path.join(input_dir, 'train.csv'))\n",
        "\n",
        "# Load the JSON file for mapping labels to diseases\n",
        "with open(os.path.join(input_dir, 'label_num_to_disease_map.json')) as f:\n",
        "    label_map = json.load(f)\n",
        "\n",
        "# Display the first few rows of the training data\n",
        "print(train_df.head())\n",
        "\n",
        "# Display the label mapping\n",
        "print(label_map)\n"
      ],
      "metadata": {
        "execution": {
          "iopub.status.busy": "2024-10-26T15:44:57.297078Z",
          "iopub.execute_input": "2024-10-26T15:44:57.297452Z",
          "iopub.status.idle": "2024-10-26T15:44:57.327421Z",
          "shell.execute_reply.started": "2024-10-26T15:44:57.297407Z",
          "shell.execute_reply": "2024-10-26T15:44:57.326Z"
        },
        "trusted": true,
        "id": "q3cB56tAyih3"
      },
      "execution_count": null,
      "outputs": []
    },
    {
      "cell_type": "markdown",
      "source": [
        "# Load and Visualize Images"
      ],
      "metadata": {
        "id": "A11JGt14yih3"
      }
    },
    {
      "cell_type": "code",
      "source": [
        "import matplotlib.pyplot as plt\n",
        "from PIL import Image\n",
        "\n",
        "# Function to load and display an image\n",
        "def load_and_display_image(image_id):\n",
        "    image_path = os.path.join(input_dir, 'train_images', image_id)\n",
        "    img = Image.open(image_path)\n",
        "    plt.imshow(img)\n",
        "    plt.axis('off')  # Hide axes\n",
        "    plt.show()\n",
        "\n",
        "# Display a sample image\n",
        "sample_image_id = train_df['image_id'].iloc[0]\n",
        "load_and_display_image(sample_image_id)\n"
      ],
      "metadata": {
        "execution": {
          "iopub.status.busy": "2024-10-26T16:34:35.304236Z",
          "iopub.execute_input": "2024-10-26T16:34:35.304798Z",
          "iopub.status.idle": "2024-10-26T16:34:35.632514Z",
          "shell.execute_reply.started": "2024-10-26T16:34:35.304739Z",
          "shell.execute_reply": "2024-10-26T16:34:35.631052Z"
        },
        "trusted": true,
        "id": "erpYeg5Iyih4"
      },
      "execution_count": null,
      "outputs": []
    },
    {
      "cell_type": "markdown",
      "source": [
        "# Preprocess Images"
      ],
      "metadata": {
        "id": "HqfhQaNiyih4"
      }
    },
    {
      "cell_type": "code",
      "source": [
        "from PIL import Image\n",
        "from torchvision import transforms\n",
        "\n",
        "# Define preprocessing transformations\n",
        "preprocess = transforms.Compose([\n",
        "    transforms.Resize((224, 224)),  # Resize images to 224x224\n",
        "    transforms.ToTensor(),          # Convert images to PyTorch tensors\n",
        "    transforms.Normalize(mean=[0.485, 0.456, 0.406], std=[0.229, 0.224, 0.225])\n",
        "])\n",
        "\n",
        "# Function to load an image using PIL\n",
        "def load_image(image_id):\n",
        "    image_path = os.path.join('/kaggle/input/cassava-leaf-disease-classification/train_images', image_id)\n",
        "    img = Image.open(image_path)\n",
        "    return img\n",
        "\n",
        "# Example: Load and preprocess the sample image\n",
        "sample_image_id = train_df['image_id'].iloc[0]  # Replace with actual image ID if needed\n",
        "img = load_image(sample_image_id)               # Load image\n",
        "img_tensor = preprocess(img)                    # Apply preprocessing transformations\n",
        "\n",
        "# Check the shape of the processed image tensor\n",
        "print(img_tensor.shape)\n"
      ],
      "metadata": {
        "execution": {
          "iopub.status.busy": "2024-10-26T15:44:57.644867Z",
          "iopub.execute_input": "2024-10-26T15:44:57.646286Z",
          "iopub.status.idle": "2024-10-26T15:44:57.666409Z",
          "shell.execute_reply.started": "2024-10-26T15:44:57.64623Z",
          "shell.execute_reply": "2024-10-26T15:44:57.665448Z"
        },
        "trusted": true,
        "id": "BatrmkvWyih5"
      },
      "execution_count": null,
      "outputs": []
    },
    {
      "cell_type": "markdown",
      "source": [
        "# Define the Model"
      ],
      "metadata": {
        "id": "RlHRlPoVyih5"
      }
    },
    {
      "cell_type": "code",
      "source": [
        "import torch\n",
        "import torch.nn as nn\n",
        "import torch.optim as optim\n",
        "from torch.utils.data import DataLoader\n",
        "import torchvision.transforms as transforms\n",
        "\n",
        "# Define your CNN model (simple architecture for image classification)\n",
        "class CassavaCNN(nn.Module):\n",
        "    def __init__(self, num_classes=5):  # Assuming 5 classes for Cassava leaf disease\n",
        "        super(CassavaCNN, self).__init__()\n",
        "\n",
        "        # Define the layers of the CNN\n",
        "        self.conv1 = nn.Conv2d(in_channels=3, out_channels=32, kernel_size=3, stride=1, padding=1)\n",
        "        self.conv2 = nn.Conv2d(32, 64, kernel_size=3, stride=1, padding=1)\n",
        "        self.conv3 = nn.Conv2d(64, 128, kernel_size=3, stride=1, padding=1)\n",
        "\n",
        "        self.pool = nn.MaxPool2d(kernel_size=2, stride=2, padding=0)\n",
        "\n",
        "        # Fully connected layers\n",
        "        self.fc1 = nn.Linear(128 * 8 * 8, 512)  # Assuming input image size is 64x64\n",
        "        self.fc2 = nn.Linear(512, num_classes)\n",
        "\n",
        "        # Dropout layer\n",
        "        self.dropout = nn.Dropout(0.5)\n",
        "\n",
        "    def forward(self, x):\n",
        "        x = self.pool(torch.relu(self.conv1(x)))\n",
        "        x = self.pool(torch.relu(self.conv2(x)))\n",
        "        x = self.pool(torch.relu(self.conv3(x)))\n",
        "\n",
        "        x = x.view(-1, 128 * 8 * 8)  # Flatten the feature map\n",
        "\n",
        "        x = torch.relu(self.fc1(x))\n",
        "        x = self.dropout(x)\n",
        "        x = self.fc2(x)\n",
        "\n",
        "        return x\n"
      ],
      "metadata": {
        "execution": {
          "iopub.status.busy": "2024-10-26T15:44:57.668201Z",
          "iopub.execute_input": "2024-10-26T15:44:57.669141Z",
          "iopub.status.idle": "2024-10-26T15:44:57.681521Z",
          "shell.execute_reply.started": "2024-10-26T15:44:57.669085Z",
          "shell.execute_reply": "2024-10-26T15:44:57.680058Z"
        },
        "trusted": true,
        "id": "BZjPG7YZyih5"
      },
      "execution_count": null,
      "outputs": []
    },
    {
      "cell_type": "markdown",
      "source": [
        "# Prepare Dataset and DataLoader"
      ],
      "metadata": {
        "id": "Ab5nf73Eyih6"
      }
    },
    {
      "cell_type": "code",
      "source": [
        "import os\n",
        "print(os.listdir(\"/kaggle/input\"))\n"
      ],
      "metadata": {
        "execution": {
          "iopub.status.busy": "2024-10-26T15:44:57.683148Z",
          "iopub.execute_input": "2024-10-26T15:44:57.683865Z",
          "iopub.status.idle": "2024-10-26T15:44:57.70046Z",
          "shell.execute_reply.started": "2024-10-26T15:44:57.683807Z",
          "shell.execute_reply": "2024-10-26T15:44:57.6991Z"
        },
        "trusted": true,
        "id": "xd4HJFBZyih6"
      },
      "execution_count": null,
      "outputs": []
    },
    {
      "cell_type": "code",
      "source": [
        "import os\n",
        "print(os.listdir(\"/kaggle/input/cassava-leaf-disease-classification\"))\n"
      ],
      "metadata": {
        "execution": {
          "iopub.status.busy": "2024-10-26T15:44:57.702262Z",
          "iopub.execute_input": "2024-10-26T15:44:57.702701Z",
          "iopub.status.idle": "2024-10-26T15:44:57.717378Z",
          "shell.execute_reply.started": "2024-10-26T15:44:57.702655Z",
          "shell.execute_reply": "2024-10-26T15:44:57.715629Z"
        },
        "trusted": true,
        "id": "PNr-3iaIyih6"
      },
      "execution_count": null,
      "outputs": []
    },
    {
      "cell_type": "code",
      "source": [
        "import pandas as pd\n",
        "from PIL import Image\n",
        "from torch.utils.data import Dataset, DataLoader, random_split\n",
        "import torchvision.transforms as transforms\n",
        "\n",
        "# Load the CSV with image file names and labels\n",
        "train_df = pd.read_csv('/kaggle/input/cassava-leaf-disease-classification/train.csv')\n",
        "\n",
        "# Shuffle the dataset and select the first 1000 samples\n",
        "train_df = train_df.sample(frac=1, random_state=42).reset_index(drop=True)  # Shuffle the dataset\n",
        "train_df = train_df[:1000]  # Select the first 1000 samples\n",
        "\n",
        "# Custom Dataset class to handle loading of images and their labels\n",
        "class CassavaDataset(Dataset):\n",
        "    def __init__(self, data_frame, root_dir, transform=None):\n",
        "        self.data_frame = data_frame\n",
        "        self.root_dir = root_dir\n",
        "        self.transform = transform\n",
        "\n",
        "    def __len__(self):\n",
        "        return len(self.data_frame)\n",
        "\n",
        "    def __getitem__(self, idx):\n",
        "        img_name = self.data_frame.iloc[idx, 0]  # Assuming first column contains image names\n",
        "        img_path = f\"{self.root_dir}/{img_name}\"\n",
        "        image = Image.open(img_path)\n",
        "\n",
        "        label = self.data_frame.iloc[idx, 1]  # Assuming second column contains labels\n",
        "\n",
        "        if self.transform:\n",
        "            image = self.transform(image)\n",
        "\n",
        "        return image, label\n",
        "\n",
        "# Define transform\n",
        "transform = transforms.Compose([\n",
        "    transforms.Resize((224, 224)),\n",
        "    transforms.ToTensor(),\n",
        "    transforms.Normalize(mean=[0.485, 0.456, 0.406], std=[0.229, 0.224, 0.225])\n",
        "])\n",
        "\n",
        "# Define batch size\n",
        "batch_size = 32  # You can adjust this value depending on your memory constraints\n",
        "\n",
        "# Create the dataset using the first 1000 samples\n",
        "train_dataset = CassavaDataset(\n",
        "    data_frame=train_df,\n",
        "    root_dir='/kaggle/input/cassava-leaf-disease-classification/train_images',\n",
        "    transform=transform\n",
        ")\n",
        "\n",
        "# Split the dataset into 800 for training and 200 for testing\n",
        "train_size = 800\n",
        "test_size = 200\n",
        "train_subset, test_subset = random_split(train_dataset, [train_size, test_size])\n",
        "\n",
        "# Create DataLoaders for training and testing\n",
        "train_loader = DataLoader(dataset=train_subset, batch_size=batch_size, shuffle=True)\n",
        "test_loader = DataLoader(dataset=test_subset, batch_size=batch_size, shuffle=False, num_workers=4, pin_memory=True)\n",
        "\n",
        "# Now 'train_loader' contains 800 samples for training and 'test_loader' contains 200 samples for testing\n"
      ],
      "metadata": {
        "execution": {
          "iopub.status.busy": "2024-10-26T15:44:57.721846Z",
          "iopub.execute_input": "2024-10-26T15:44:57.72246Z",
          "iopub.status.idle": "2024-10-26T15:44:57.758514Z",
          "shell.execute_reply.started": "2024-10-26T15:44:57.722413Z",
          "shell.execute_reply": "2024-10-26T15:44:57.75718Z"
        },
        "trusted": true,
        "id": "BWhkcA91yih6"
      },
      "execution_count": null,
      "outputs": []
    },
    {
      "cell_type": "code",
      "source": [
        "import os\n",
        "import pandas as pd\n",
        "from PIL import Image\n",
        "import torch\n",
        "from torch.utils.data import Dataset, DataLoader\n",
        "from torchvision import transforms\n",
        "\n",
        "# Define the custom dataset class\n",
        "class CassavaDataset(Dataset):\n",
        "    def __init__(self, csv_file, img_dir, transform=None):\n",
        "        self.data = pd.read_csv(csv_file)\n",
        "        self.img_dir = img_dir\n",
        "        self.transform = transform\n",
        "\n",
        "    def __len__(self):\n",
        "        return len(self.data)\n",
        "\n",
        "    def __getitem__(self, idx):\n",
        "        img_name = os.path.join(self.img_dir, self.data.iloc[idx, 0])\n",
        "        image = Image.open(img_name)\n",
        "        label = int(self.data.iloc[idx, 1])\n",
        "\n",
        "        if self.transform:\n",
        "            image = self.transform(image)\n",
        "\n",
        "        return image, label\n",
        "\n",
        "# Define preprocessing\n",
        "preprocess = transforms.Compose([\n",
        "    transforms.Resize((224, 224)),\n",
        "    transforms.ToTensor(),\n",
        "    transforms.Normalize(mean=[0.485, 0.456, 0.406], std=[0.229, 0.224, 0.225])\n",
        "])\n",
        "\n",
        "# Paths to CSV and image directory\n",
        "csv_file = '/kaggle/input/cassava-leaf-disease-classification/train.csv'\n",
        "img_dir = '/kaggle/input/cassava-leaf-disease-classification/train_images'\n",
        "\n",
        "# Create the dataset\n",
        "train_dataset = CassavaDataset(csv_file=csv_file, img_dir=img_dir, transform=preprocess)\n",
        "\n",
        "# Create the DataLoader\n",
        "batch_size = 32\n",
        "dataloader = DataLoader(train_dataset, batch_size=batch_size, shuffle=True)\n",
        "\n",
        "# Example usage (loop through one batch of data)\n",
        "for images, labels in dataloader:\n",
        "    print(images.shape, labels.shape)  # Should print: torch.Size([32, 3, 224, 224]), torch.Size([32])\n",
        "    break\n"
      ],
      "metadata": {
        "execution": {
          "iopub.status.busy": "2024-10-26T15:44:57.760143Z",
          "iopub.execute_input": "2024-10-26T15:44:57.760641Z",
          "iopub.status.idle": "2024-10-26T15:44:58.363876Z",
          "shell.execute_reply.started": "2024-10-26T15:44:57.760585Z",
          "shell.execute_reply": "2024-10-26T15:44:58.362597Z"
        },
        "trusted": true,
        "id": "LDiFjd9syih7"
      },
      "execution_count": null,
      "outputs": []
    },
    {
      "cell_type": "code",
      "source": [
        "import torch\n",
        "import torch.nn as nn\n",
        "import torch.optim as optim\n",
        "from torchvision import models\n",
        "from torchvision.models import ResNet50_Weights  # Import the weights enum\n",
        "\n",
        "# Load a pre-trained model with updated weights argument\n",
        "model = models.resnet50(weights=ResNet50_Weights.DEFAULT)  # Use DEFAULT weights\n",
        "\n",
        "# Freeze all layers except the final fully connected layer\n",
        "for param in model.parameters():\n",
        "    param.requires_grad = False\n",
        "\n",
        "# Replace the final layer for the desired number of classes (5 in this case)\n",
        "model.fc = nn.Linear(model.fc.in_features, 5)  # 5 classes for the diseases\n",
        "\n",
        "# Only the parameters in the final layer (model.fc) will be optimized\n",
        "optimizer = optim.Adam(model.fc.parameters(), lr=0.0001)\n",
        "\n",
        "# Define loss\n",
        "criterion = nn.CrossEntropyLoss()\n",
        "\n",
        "# Set the model to training mode\n",
        "model.train()\n",
        "\n",
        "# Define number of epochs\n",
        "num_epochs = 1  # Adjust as needed\n",
        "\n",
        "# Training loop (simplified example)\n",
        "for epoch in range(num_epochs):\n",
        "    for images, labels in dataloader:  # Use a DataLoader to load your data\n",
        "        optimizer.zero_grad()\n",
        "        outputs = model(images)\n",
        "        loss = criterion(outputs, labels)\n",
        "        loss.backward()\n",
        "        optimizer.step()\n",
        "\n",
        "    print(f\"Epoch [{epoch+1}/{num_epochs}], Loss: {loss.item():.4f}\")\n"
      ],
      "metadata": {
        "execution": {
          "iopub.status.busy": "2024-10-26T15:44:58.365528Z",
          "iopub.execute_input": "2024-10-26T15:44:58.366019Z",
          "iopub.status.idle": "2024-10-26T16:29:28.195472Z",
          "shell.execute_reply.started": "2024-10-26T15:44:58.365964Z",
          "shell.execute_reply": "2024-10-26T16:29:28.194022Z"
        },
        "trusted": true,
        "id": "K5NGXPvjyih7"
      },
      "execution_count": null,
      "outputs": []
    },
    {
      "cell_type": "markdown",
      "source": [
        "# Evaluate the Model (Optional)"
      ],
      "metadata": {
        "id": "FuKfdjobyih7"
      }
    },
    {
      "cell_type": "code",
      "source": [
        "from sklearn.metrics import confusion_matrix\n",
        "import seaborn as sns\n",
        "import matplotlib.pyplot as plt\n",
        "\n",
        "# Set the model to evaluation mode\n",
        "model.eval()\n",
        "\n",
        "# Initialize variables to collect predictions and labels\n",
        "all_preds = []\n",
        "all_labels = []\n",
        "\n",
        "# Disable gradient calculation for faster inference\n",
        "with torch.no_grad():\n",
        "    correct = 0\n",
        "    total = 0\n",
        "\n",
        "    for images, labels in test_loader:  # Assuming you have created a test_loader\n",
        "        outputs = model(images)\n",
        "        _, predicted = torch.max(outputs, 1)\n",
        "\n",
        "        total += labels.size(0)\n",
        "        correct += (predicted == labels).sum().item()\n",
        "\n",
        "        # Collect predictions and labels\n",
        "        all_preds.extend(predicted.cpu().numpy())  # Append predictions\n",
        "        all_labels.extend(labels.cpu().numpy())  # Append true labels\n",
        "\n",
        "    print(f\"Test Accuracy: {100 * correct / total:.2f}%\")\n",
        "\n",
        "# Now compute the confusion matrix\n",
        "cm = confusion_matrix(all_labels, all_preds)\n",
        "\n",
        "# Plot confusion matrix\n",
        "plt.figure(figsize=(10,7))\n",
        "sns.heatmap(cm, annot=True, fmt='d', cmap='Blues', xticklabels=label_map.values(), yticklabels=label_map.values())\n",
        "plt.xlabel('Predicted')\n",
        "plt.ylabel('True')\n",
        "plt.title('Confusion Matrix')\n",
        "plt.show()\n"
      ],
      "metadata": {
        "execution": {
          "iopub.status.busy": "2024-10-26T16:34:15.025275Z",
          "iopub.execute_input": "2024-10-26T16:34:15.026611Z",
          "iopub.status.idle": "2024-10-26T16:34:35.30119Z",
          "shell.execute_reply.started": "2024-10-26T16:34:15.026558Z",
          "shell.execute_reply": "2024-10-26T16:34:35.299306Z"
        },
        "trusted": true,
        "id": "vJtukct5yih7"
      },
      "execution_count": null,
      "outputs": []
    },
    {
      "cell_type": "markdown",
      "source": [
        "# Save the Model (Optional)"
      ],
      "metadata": {
        "id": "sV2E3hsyyih8"
      }
    },
    {
      "cell_type": "code",
      "source": [
        "# Save the model checkpoint\n",
        "torch.save(model.state_dict(), 'resnet50_cassava.pth')\n"
      ],
      "metadata": {
        "execution": {
          "iopub.status.busy": "2024-10-26T16:29:28.251761Z",
          "iopub.status.idle": "2024-10-26T16:29:28.252389Z",
          "shell.execute_reply.started": "2024-10-26T16:29:28.252083Z",
          "shell.execute_reply": "2024-10-26T16:29:28.252125Z"
        },
        "trusted": true,
        "id": "Xm6EWeUuyih8"
      },
      "execution_count": null,
      "outputs": []
    },
    {
      "cell_type": "code",
      "source": [
        "# Load the model checkpoint\n",
        "model.load_state_dict(torch.load('resnet50_cassava.pth'))\n"
      ],
      "metadata": {
        "execution": {
          "iopub.status.busy": "2024-10-26T16:29:28.254394Z",
          "iopub.status.idle": "2024-10-26T16:29:28.254998Z",
          "shell.execute_reply.started": "2024-10-26T16:29:28.254676Z",
          "shell.execute_reply": "2024-10-26T16:29:28.254706Z"
        },
        "trusted": true,
        "id": "crgCrYk9yih8"
      },
      "execution_count": null,
      "outputs": []
    }
  ]
}