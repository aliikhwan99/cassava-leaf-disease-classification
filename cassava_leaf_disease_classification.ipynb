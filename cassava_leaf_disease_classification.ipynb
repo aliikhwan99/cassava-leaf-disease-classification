{
  "metadata": {
    "kernelspec": {
      "language": "python",
      "display_name": "Python 3",
      "name": "python3"
    },
    "language_info": {
      "name": "python",
      "version": "3.10.14",
      "mimetype": "text/x-python",
      "codemirror_mode": {
        "name": "ipython",
        "version": 3
      },
      "pygments_lexer": "ipython3",
      "nbconvert_exporter": "python",
      "file_extension": ".py"
    },
    "kaggle": {
      "accelerator": "none",
      "dataSources": [
        {
          "sourceId": 13836,
          "databundleVersionId": 1718836,
          "sourceType": "competition"
        }
      ],
      "dockerImageVersionId": 30775,
      "isInternetEnabled": true,
      "language": "python",
      "sourceType": "notebook",
      "isGpuEnabled": false
    },
    "colab": {
      "name": "cassava-leaf-disease-classification",
      "provenance": [],
      "include_colab_link": true
    }
  },
  "nbformat_minor": 0,
  "nbformat": 4,
  "cells": [
    {
      "cell_type": "markdown",
      "metadata": {
        "id": "view-in-github",
        "colab_type": "text"
      },
      "source": [
        "<a href=\"https://colab.research.google.com/github/aliikhwan99/cassava-leaf-disease-classification/blob/main/cassava_leaf_disease_classification.ipynb\" target=\"_parent\"><img src=\"https://colab.research.google.com/assets/colab-badge.svg\" alt=\"Open In Colab\"/></a>"
      ]
    },
    {
      "source": [
        "# IMPORTANT: SOME KAGGLE DATA SOURCES ARE PRIVATE\n",
        "# RUN THIS CELL IN ORDER TO IMPORT YOUR KAGGLE DATA SOURCES.\n",
        "import kagglehub\n",
        "kagglehub.login()\n"
      ],
      "metadata": {
        "id": "8R4smmSAhXQz"
      },
      "cell_type": "code",
      "outputs": [],
      "execution_count": null
    },
    {
      "source": [
        "# IMPORTANT: RUN THIS CELL IN ORDER TO IMPORT YOUR KAGGLE DATA SOURCES,\n",
        "# THEN FEEL FREE TO DELETE THIS CELL.\n",
        "# NOTE: THIS NOTEBOOK ENVIRONMENT DIFFERS FROM KAGGLE'S PYTHON\n",
        "# ENVIRONMENT SO THERE MAY BE MISSING LIBRARIES USED BY YOUR\n",
        "# NOTEBOOK.\n",
        "\n",
        "cassava_leaf_disease_classification_path = kagglehub.competition_download('cassava-leaf-disease-classification')\n",
        "\n",
        "print('Data source import complete.')\n"
      ],
      "metadata": {
        "id": "HavA_TcMhXQ2"
      },
      "cell_type": "code",
      "outputs": [],
      "execution_count": null
    },
    {
      "cell_type": "code",
      "source": [
        "import numpy as np\n",
        "import pandas as pd\n",
        "import matplotlib as plt\n",
        "import seaborn as sns\n",
        "import os\n",
        "import shutil"
      ],
      "metadata": {
        "_uuid": "8f2839f25d086af736a60e9eeb907d3b93b6e0e5",
        "_cell_guid": "b1076dfc-b9ad-4769-8c92-a6c4dae69d19",
        "execution": {
          "iopub.status.busy": "2024-11-08T14:54:41.298781Z",
          "iopub.execute_input": "2024-11-08T14:54:41.299646Z",
          "iopub.status.idle": "2024-11-08T14:54:41.305268Z",
          "shell.execute_reply.started": "2024-11-08T14:54:41.299597Z",
          "shell.execute_reply": "2024-11-08T14:54:41.303824Z"
        },
        "trusted": true,
        "id": "koWgfE1UhXQ3"
      },
      "outputs": [],
      "execution_count": null
    },
    {
      "cell_type": "markdown",
      "source": [
        "# Access the Dataset"
      ],
      "metadata": {
        "id": "oWL7VHuNhXQ3"
      }
    },
    {
      "cell_type": "code",
      "source": [
        "# Acces teh Dataset\n",
        "import os\n",
        "\n",
        "#list all files in the input directory\n",
        "input_dir = '/kaggle/input/cassava-leaf-disease-classification'\n",
        "os.listdir(input_dir)"
      ],
      "metadata": {
        "execution": {
          "iopub.status.busy": "2024-11-08T14:54:41.307732Z",
          "iopub.execute_input": "2024-11-08T14:54:41.308262Z",
          "iopub.status.idle": "2024-11-08T14:54:41.32295Z",
          "shell.execute_reply.started": "2024-11-08T14:54:41.308202Z",
          "shell.execute_reply": "2024-11-08T14:54:41.321178Z"
        },
        "trusted": true,
        "id": "eOEEgeLnhXQ4"
      },
      "outputs": [],
      "execution_count": null
    },
    {
      "cell_type": "markdown",
      "source": [
        "# Load CSV and JSON Files"
      ],
      "metadata": {
        "id": "eUXtpIczhXQ4"
      }
    },
    {
      "cell_type": "code",
      "source": [
        "import pandas as pd\n",
        "import json\n",
        "\n",
        "# Load the train.csv file\n",
        "train_df = pd.read_csv(os.path.join(input_dir, 'train.csv'))\n",
        "\n",
        "# Load the JSON file for mapping labels to diseases\n",
        "with open(os.path.join(input_dir, 'label_num_to_disease_map.json')) as f:\n",
        "    label_map = json.load(f)\n",
        "\n",
        "# Display the first few rows of the training data\n",
        "print(train_df.head())\n",
        "\n",
        "# Display the label mapping\n",
        "print(label_map)\n"
      ],
      "metadata": {
        "execution": {
          "iopub.status.busy": "2024-11-08T14:54:41.324456Z",
          "iopub.execute_input": "2024-11-08T14:54:41.324894Z",
          "iopub.status.idle": "2024-11-08T14:54:41.383372Z",
          "shell.execute_reply.started": "2024-11-08T14:54:41.324851Z",
          "shell.execute_reply": "2024-11-08T14:54:41.382165Z"
        },
        "trusted": true,
        "id": "aepd6kYyhXQ5"
      },
      "outputs": [],
      "execution_count": null
    },
    {
      "cell_type": "markdown",
      "source": [
        "# Load and Visualize Images"
      ],
      "metadata": {
        "id": "0B8pFxMthXQ5"
      }
    },
    {
      "cell_type": "code",
      "source": [
        "import matplotlib.pyplot as plt\n",
        "from PIL import Image\n",
        "\n",
        "# Function to load and display an image\n",
        "def load_and_display_image(image_id):\n",
        "    image_path = os.path.join(input_dir, 'train_images', image_id)\n",
        "    img = Image.open(image_path)\n",
        "    plt.imshow(img)\n",
        "    plt.axis('off')  # Hide axes\n",
        "    plt.show()\n",
        "\n",
        "# Display a sample image\n",
        "sample_image_id = train_df['image_id'].iloc[0]\n",
        "load_and_display_image(sample_image_id)\n"
      ],
      "metadata": {
        "execution": {
          "iopub.status.busy": "2024-11-08T14:54:41.385865Z",
          "iopub.execute_input": "2024-11-08T14:54:41.386864Z",
          "iopub.status.idle": "2024-11-08T14:54:41.807271Z",
          "shell.execute_reply.started": "2024-11-08T14:54:41.386809Z",
          "shell.execute_reply": "2024-11-08T14:54:41.805654Z"
        },
        "trusted": true,
        "id": "RpbymAEchXQ5"
      },
      "outputs": [],
      "execution_count": null
    },
    {
      "cell_type": "markdown",
      "source": [
        "# Preprocess Images"
      ],
      "metadata": {
        "id": "_HU3P2mWhXQ6"
      }
    },
    {
      "cell_type": "code",
      "source": [
        "from PIL import Image\n",
        "from torchvision import transforms\n",
        "\n",
        "# Define preprocessing transformations\n",
        "preprocess = transforms.Compose([\n",
        "    transforms.Resize((224, 224)),  # Resize images to 224x224\n",
        "    transforms.ToTensor(),          # Convert images to PyTorch tensors\n",
        "    transforms.Normalize(mean=[0.485, 0.456, 0.406], std=[0.229, 0.224, 0.225])\n",
        "])\n",
        "\n",
        "# Function to load an image using PIL\n",
        "def load_image(image_id):\n",
        "    image_path = os.path.join('/kaggle/input/cassava-leaf-disease-classification/train_images', image_id)\n",
        "    img = Image.open(image_path)\n",
        "    return img\n",
        "\n",
        "# Example: Load and preprocess the sample image\n",
        "sample_image_id = train_df['image_id'].iloc[0]  # Replace with actual image ID if needed\n",
        "img = load_image(sample_image_id)               # Load image\n",
        "img_tensor = preprocess(img)                    # Apply preprocessing transformations\n",
        "\n",
        "# Check the shape of the processed image tensor\n",
        "print(img_tensor.shape)\n"
      ],
      "metadata": {
        "execution": {
          "iopub.status.busy": "2024-11-08T14:54:41.809507Z",
          "iopub.execute_input": "2024-11-08T14:54:41.810044Z",
          "iopub.status.idle": "2024-11-08T14:54:45.437497Z",
          "shell.execute_reply.started": "2024-11-08T14:54:41.809982Z",
          "shell.execute_reply": "2024-11-08T14:54:45.436262Z"
        },
        "trusted": true,
        "id": "jcGmrT9whXQ6"
      },
      "outputs": [],
      "execution_count": null
    },
    {
      "cell_type": "markdown",
      "source": [
        "# Define the Model"
      ],
      "metadata": {
        "id": "hLc3CccphXQ6"
      }
    },
    {
      "cell_type": "code",
      "source": [
        "import torch\n",
        "import torch.nn as nn\n",
        "import torch.optim as optim\n",
        "from torch.utils.data import DataLoader\n",
        "import torchvision.transforms as transforms\n",
        "\n",
        "# Define your CNN model (simple architecture for image classification)\n",
        "class CassavaCNN(nn.Module):\n",
        "    def __init__(self, num_classes=5):  # Assuming 5 classes for Cassava leaf disease\n",
        "        super(CassavaCNN, self).__init__()\n",
        "\n",
        "        # Define the layers of the CNN\n",
        "        self.conv1 = nn.Conv2d(in_channels=3, out_channels=32, kernel_size=3, stride=1, padding=1)\n",
        "        self.conv2 = nn.Conv2d(32, 64, kernel_size=3, stride=1, padding=1)\n",
        "        self.conv3 = nn.Conv2d(64, 128, kernel_size=3, stride=1, padding=1)\n",
        "\n",
        "        self.pool = nn.MaxPool2d(kernel_size=2, stride=2, padding=0)\n",
        "\n",
        "        # Fully connected layers\n",
        "        self.fc1 = nn.Linear(128 * 8 * 8, 512)  # Assuming input image size is 64x64\n",
        "        self.fc2 = nn.Linear(512, num_classes)\n",
        "\n",
        "        # Dropout layer\n",
        "        self.dropout = nn.Dropout(0.5)\n",
        "\n",
        "    def forward(self, x):\n",
        "        x = self.pool(torch.relu(self.conv1(x)))\n",
        "        x = self.pool(torch.relu(self.conv2(x)))\n",
        "        x = self.pool(torch.relu(self.conv3(x)))\n",
        "\n",
        "        x = x.view(-1, 128 * 8 * 8)  # Flatten the feature map\n",
        "\n",
        "        x = torch.relu(self.fc1(x))\n",
        "        x = self.dropout(x)\n",
        "        x = self.fc2(x)\n",
        "\n",
        "        return x\n"
      ],
      "metadata": {
        "execution": {
          "iopub.status.busy": "2024-11-08T14:54:45.439288Z",
          "iopub.execute_input": "2024-11-08T14:54:45.440076Z",
          "iopub.status.idle": "2024-11-08T14:54:45.451953Z",
          "shell.execute_reply.started": "2024-11-08T14:54:45.440006Z",
          "shell.execute_reply": "2024-11-08T14:54:45.45054Z"
        },
        "trusted": true,
        "id": "3x5S0vlWhXQ6"
      },
      "outputs": [],
      "execution_count": null
    },
    {
      "cell_type": "markdown",
      "source": [
        "# Prepare Dataset and DataLoader"
      ],
      "metadata": {
        "id": "D7B3TfP2hXQ7"
      }
    },
    {
      "cell_type": "code",
      "source": [
        "import os\n",
        "print(os.listdir(\"/kaggle/input\"))\n"
      ],
      "metadata": {
        "execution": {
          "iopub.status.busy": "2024-11-08T14:54:45.453772Z",
          "iopub.execute_input": "2024-11-08T14:54:45.454437Z",
          "iopub.status.idle": "2024-11-08T14:54:45.469574Z",
          "shell.execute_reply.started": "2024-11-08T14:54:45.454392Z",
          "shell.execute_reply": "2024-11-08T14:54:45.468046Z"
        },
        "trusted": true,
        "id": "W2Muw1WthXQ7"
      },
      "outputs": [],
      "execution_count": null
    },
    {
      "cell_type": "code",
      "source": [
        "import os\n",
        "print(os.listdir(\"/kaggle/input/cassava-leaf-disease-classification\"))\n"
      ],
      "metadata": {
        "execution": {
          "iopub.status.busy": "2024-11-08T14:54:45.471143Z",
          "iopub.execute_input": "2024-11-08T14:54:45.47165Z",
          "iopub.status.idle": "2024-11-08T14:54:45.482502Z",
          "shell.execute_reply.started": "2024-11-08T14:54:45.471594Z",
          "shell.execute_reply": "2024-11-08T14:54:45.481143Z"
        },
        "trusted": true,
        "id": "t9GjVAhehXQ7"
      },
      "outputs": [],
      "execution_count": null
    },
    {
      "cell_type": "code",
      "source": [
        "import pandas as pd\n",
        "from PIL import Image\n",
        "from torch.utils.data import Dataset, DataLoader, random_split\n",
        "import torchvision.transforms as transforms\n",
        "\n",
        "# Load the CSV with image file names and labels\n",
        "train_df = pd.read_csv('/kaggle/input/cassava-leaf-disease-classification/train.csv')\n",
        "\n",
        "# Shuffle the dataset and select the first 1000 samples\n",
        "train_df = train_df.sample(frac=1, random_state=42).reset_index(drop=True)  # Shuffle the dataset\n",
        "train_df = train_df[:1000]  # Select the first 1000 samples\n",
        "\n",
        "# Custom Dataset class to handle loading of images and their labels\n",
        "class CassavaDataset(Dataset):\n",
        "    def __init__(self, data_frame, root_dir, transform=None):\n",
        "        self.data_frame = data_frame\n",
        "        self.root_dir = root_dir\n",
        "        self.transform = transform\n",
        "\n",
        "    def __len__(self):\n",
        "        return len(self.data_frame)\n",
        "\n",
        "    def __getitem__(self, idx):\n",
        "        img_name = self.data_frame.iloc[idx, 0]  # Assuming first column contains image names\n",
        "        img_path = f\"{self.root_dir}/{img_name}\"\n",
        "        image = Image.open(img_path)\n",
        "\n",
        "        label = self.data_frame.iloc[idx, 1]  # Assuming second column contains labels\n",
        "\n",
        "        if self.transform:\n",
        "            image = self.transform(image)\n",
        "\n",
        "        return image, label\n",
        "\n",
        "# Define transform\n",
        "transform = transforms.Compose([\n",
        "    transforms.Resize((224, 224)),\n",
        "    transforms.ToTensor(),\n",
        "    transforms.Normalize(mean=[0.485, 0.456, 0.406], std=[0.229, 0.224, 0.225])\n",
        "])\n",
        "\n",
        "# Define batch size\n",
        "batch_size = 32  # You can adjust this value depending on your memory constraints\n",
        "\n",
        "# Create the dataset using the first 1000 samples\n",
        "train_dataset = CassavaDataset(\n",
        "    data_frame=train_df,\n",
        "    root_dir='/kaggle/input/cassava-leaf-disease-classification/train_images',\n",
        "    transform=transform\n",
        ")\n",
        "\n",
        "# Split the dataset into 800 for training and 200 for testing\n",
        "train_size = 800\n",
        "test_size = 200\n",
        "train_subset, test_subset = random_split(train_dataset, [train_size, test_size])\n",
        "\n",
        "# Create DataLoaders for training and testing\n",
        "train_loader = DataLoader(dataset=train_subset, batch_size=batch_size, shuffle=True)\n",
        "test_loader = DataLoader(dataset=test_subset, batch_size=batch_size, shuffle=False, num_workers=4, pin_memory=True)\n",
        "\n",
        "# Now 'train_loader' contains 800 samples for training and 'test_loader' contains 200 samples for testing\n"
      ],
      "metadata": {
        "execution": {
          "iopub.status.busy": "2024-11-08T14:54:45.48621Z",
          "iopub.execute_input": "2024-11-08T14:54:45.487058Z",
          "iopub.status.idle": "2024-11-08T14:54:45.540355Z",
          "shell.execute_reply.started": "2024-11-08T14:54:45.487015Z",
          "shell.execute_reply": "2024-11-08T14:54:45.538758Z"
        },
        "trusted": true,
        "id": "L39S4USwhXQ7"
      },
      "outputs": [],
      "execution_count": null
    },
    {
      "cell_type": "code",
      "source": [
        "import os\n",
        "import pandas as pd\n",
        "from PIL import Image\n",
        "import torch\n",
        "from torch.utils.data import Dataset, DataLoader\n",
        "from torchvision import transforms\n",
        "\n",
        "# Define the custom dataset class\n",
        "class CassavaDataset(Dataset):\n",
        "    def __init__(self, csv_file, img_dir, transform=None):\n",
        "        self.data = pd.read_csv(csv_file)\n",
        "        self.img_dir = img_dir\n",
        "        self.transform = transform\n",
        "\n",
        "    def __len__(self):\n",
        "        return len(self.data)\n",
        "\n",
        "    def __getitem__(self, idx):\n",
        "        img_name = os.path.join(self.img_dir, self.data.iloc[idx, 0])\n",
        "        image = Image.open(img_name)\n",
        "        label = int(self.data.iloc[idx, 1])\n",
        "\n",
        "        if self.transform:\n",
        "            image = self.transform(image)\n",
        "\n",
        "        return image, label\n",
        "\n",
        "# Define preprocessing\n",
        "preprocess = transforms.Compose([\n",
        "    transforms.Resize((224, 224)),\n",
        "    transforms.ToTensor(),\n",
        "    transforms.Normalize(mean=[0.485, 0.456, 0.406], std=[0.229, 0.224, 0.225])\n",
        "])\n",
        "\n",
        "# Paths to CSV and image directory\n",
        "csv_file = '/kaggle/input/cassava-leaf-disease-classification/train.csv'\n",
        "img_dir = '/kaggle/input/cassava-leaf-disease-classification/train_images'\n",
        "\n",
        "# Create the dataset\n",
        "train_dataset = CassavaDataset(csv_file=csv_file, img_dir=img_dir, transform=preprocess)\n",
        "\n",
        "# Create the DataLoader\n",
        "batch_size = 32\n",
        "dataloader = DataLoader(train_dataset, batch_size=batch_size, shuffle=True)\n",
        "\n",
        "# Example usage (loop through one batch of data)\n",
        "for images, labels in dataloader:\n",
        "    print(images.shape, labels.shape)  # Should print: torch.Size([32, 3, 224, 224]), torch.Size([32])\n",
        "    break\n"
      ],
      "metadata": {
        "execution": {
          "iopub.status.busy": "2024-11-08T14:54:45.542238Z",
          "iopub.execute_input": "2024-11-08T14:54:45.542731Z",
          "iopub.status.idle": "2024-11-08T14:54:46.341055Z",
          "shell.execute_reply.started": "2024-11-08T14:54:45.542691Z",
          "shell.execute_reply": "2024-11-08T14:54:46.339525Z"
        },
        "trusted": true,
        "id": "JK0bDORChXQ7"
      },
      "outputs": [],
      "execution_count": null
    },
    {
      "cell_type": "code",
      "source": [
        "import torch\n",
        "import torch.nn as nn\n",
        "import torch.optim as optim\n",
        "from torchvision import models\n",
        "from torchvision.models import ResNet50_Weights  # Import the weights enum\n",
        "\n",
        "# Load a pre-trained model with updated weights argument\n",
        "model = models.resnet50(weights=ResNet50_Weights.DEFAULT)  # Use DEFAULT weights\n",
        "\n",
        "# Freeze all layers except the final fully connected layer\n",
        "for param in model.parameters():\n",
        "    param.requires_grad = False\n",
        "\n",
        "# Replace the final layer for the desired number of classes (5 in this case)\n",
        "model.fc = nn.Linear(model.fc.in_features, 5)  # 5 classes for the diseases\n",
        "\n",
        "# Only the parameters in the final layer (model.fc) will be optimized\n",
        "optimizer = optim.Adam(model.fc.parameters(), lr=0.0001)\n",
        "\n",
        "# Define loss\n",
        "criterion = nn.CrossEntropyLoss()\n",
        "\n",
        "# Set the model to training mode\n",
        "model.train()\n",
        "\n",
        "# Define number of epochs\n",
        "num_epochs = 1  # Adjust as needed\n",
        "\n",
        "# Training loop (simplified example)\n",
        "for epoch in range(num_epochs):\n",
        "    for images, labels in dataloader:  # Use a DataLoader to load your data\n",
        "        optimizer.zero_grad()\n",
        "        outputs = model(images)\n",
        "        loss = criterion(outputs, labels)\n",
        "        loss.backward()\n",
        "        optimizer.step()\n",
        "\n",
        "    print(f\"Epoch [{epoch+1}/{num_epochs}], Loss: {loss.item():.4f}\")\n"
      ],
      "metadata": {
        "execution": {
          "iopub.status.busy": "2024-11-08T14:54:46.342618Z",
          "iopub.execute_input": "2024-11-08T14:54:46.343704Z",
          "iopub.status.idle": "2024-11-08T15:56:23.979378Z",
          "shell.execute_reply.started": "2024-11-08T14:54:46.343658Z",
          "shell.execute_reply": "2024-11-08T15:56:23.978015Z"
        },
        "trusted": true,
        "id": "kbZouEhlhXQ7"
      },
      "outputs": [],
      "execution_count": null
    },
    {
      "cell_type": "markdown",
      "source": [
        "# Evaluate the Model (Optional)"
      ],
      "metadata": {
        "id": "1ytQi8MshXQ7"
      }
    },
    {
      "cell_type": "code",
      "source": [
        "from sklearn.metrics import confusion_matrix\n",
        "import seaborn as sns\n",
        "import matplotlib.pyplot as plt\n",
        "\n",
        "# Set the model to evaluation mode\n",
        "model.eval()\n",
        "\n",
        "# Initialize variables to collect predictions and labels\n",
        "all_preds = []\n",
        "all_labels = []\n",
        "\n",
        "# Disable gradient calculation for faster inference\n",
        "with torch.no_grad():\n",
        "    correct = 0\n",
        "    total = 0\n",
        "\n",
        "    for images, labels in test_loader:  # Assuming you have created a test_loader\n",
        "        outputs = model(images)\n",
        "        _, predicted = torch.max(outputs, 1)\n",
        "\n",
        "        total += labels.size(0)\n",
        "        correct += (predicted == labels).sum().item()\n",
        "\n",
        "        # Collect predictions and labels\n",
        "        all_preds.extend(predicted.cpu().numpy())  # Append predictions\n",
        "        all_labels.extend(labels.cpu().numpy())  # Append true labels\n",
        "\n",
        "    print(f\"Test Accuracy: {100 * correct / total:.2f}%\")\n",
        "\n",
        "# Now compute the confusion matrix\n",
        "cm = confusion_matrix(all_labels, all_preds)\n",
        "\n",
        "# Plot confusion matrix\n",
        "plt.figure(figsize=(10,7))\n",
        "sns.heatmap(cm, annot=True, fmt='d', cmap='Blues', xticklabels=label_map.values(), yticklabels=label_map.values())\n",
        "plt.xlabel('Predicted')\n",
        "plt.ylabel('True')\n",
        "plt.title('Confusion Matrix')\n",
        "plt.show()\n"
      ],
      "metadata": {
        "trusted": true,
        "execution": {
          "iopub.status.busy": "2024-11-08T15:56:23.981587Z",
          "iopub.execute_input": "2024-11-08T15:56:23.982127Z",
          "iopub.status.idle": "2024-11-08T15:56:51.769254Z",
          "shell.execute_reply.started": "2024-11-08T15:56:23.98207Z",
          "shell.execute_reply": "2024-11-08T15:56:51.767875Z"
        },
        "id": "4TqWeJbahXQ8"
      },
      "outputs": [],
      "execution_count": null
    },
    {
      "cell_type": "markdown",
      "source": [
        "# -------------"
      ],
      "metadata": {
        "id": "-uttE3IZhXQ8"
      }
    },
    {
      "cell_type": "code",
      "source": [
        "def grad_cam(input_image, model, target_layer):\n",
        "    model.eval()\n",
        "\n",
        "    # Lists to store gradients and activations\n",
        "    activations = []\n",
        "    gradients = []\n",
        "\n",
        "    # Forward hook to capture activations\n",
        "    def forward_hook(module, input, output):\n",
        "        activations.append(output)\n",
        "\n",
        "    # Backward hook to capture gradients\n",
        "    def backward_hook(module, grad_input, grad_output):\n",
        "        gradients.append(grad_output[0])\n",
        "\n",
        "    # Register hooks\n",
        "    forward_handle = target_layer.register_forward_hook(forward_hook)\n",
        "    backward_handle = target_layer.register_backward_hook(backward_hook)\n",
        "\n",
        "    # Forward pass\n",
        "    x = input_image.requires_grad_()  # Ensure input requires gradient\n",
        "    output = model(x)\n",
        "    class_idx = output.argmax(dim=1).item()  # Identify the target class\n",
        "\n",
        "    # Backward pass to calculate gradients for the target class\n",
        "    model.zero_grad()\n",
        "    output[:, class_idx].backward()\n",
        "\n",
        "    # Remove hooks\n",
        "    forward_handle.remove()\n",
        "    backward_handle.remove()\n",
        "\n",
        "    # Extract activation and gradient tensors\n",
        "    activation = activations[0].detach()  # Activation from the forward hook\n",
        "    gradient = gradients[0].detach()  # Gradient from the backward hook\n",
        "\n",
        "    # Debug: Print shapes of activation and gradients\n",
        "    print(f\"Activation shape: {activation.shape}\")\n",
        "    print(f\"Gradient shape: {gradient.shape}\")\n",
        "\n",
        "    # Calculate the weights\n",
        "    weights = gradient.mean(dim=(2, 3), keepdim=True)  # Average gradients spatially\n",
        "    # Debug: Print the shape of weights\n",
        "    print(f\"Weights shape: {weights.shape}\")\n",
        "\n",
        "    # Calculate the Grad-CAM\n",
        "    cam = (weights * activation).sum(dim=1, keepdim=True)  # Ensure cam has shape (1, 1, height, width)\n",
        "    cam = torch.relu(cam)  # Apply ReLU to keep values positive\n",
        "\n",
        "    return cam.squeeze().cpu().numpy()\n",
        "\n",
        "# Loop for batch processing and calculating feature importance\n",
        "feature_importances = []\n",
        "for i in range(images.size(0)):\n",
        "    cam = grad_cam(images[i].unsqueeze(0), model, model.layer4)  # Generate Grad-CAM for each image\n",
        "    feature_importances.append(cam.mean())  # Aggregate importance as needed\n"
      ],
      "metadata": {
        "trusted": true,
        "execution": {
          "iopub.status.busy": "2024-11-08T15:56:51.771114Z",
          "iopub.execute_input": "2024-11-08T15:56:51.771538Z",
          "iopub.status.idle": "2024-11-08T15:56:53.814726Z",
          "shell.execute_reply.started": "2024-11-08T15:56:51.771487Z",
          "shell.execute_reply": "2024-11-08T15:56:53.81347Z"
        },
        "id": "oKCPW7r4hXQ8"
      },
      "outputs": [],
      "execution_count": null
    },
    {
      "cell_type": "code",
      "source": [
        "import matplotlib.pyplot as plt\n",
        "import numpy as np\n",
        "\n",
        "# Assuming feature_importances is a list of means from Grad-CAM outputs\n",
        "feature_importances = np.array(feature_importances)\n",
        "\n",
        "# Generate indices for the bars\n",
        "indices = np.arange(len(feature_importances))\n",
        "\n",
        "# Create a bar chart\n",
        "plt.figure(figsize=(10, 6))\n",
        "plt.bar(indices, feature_importances, color='blue', alpha=0.7)\n",
        "\n",
        "# Adding labels and title\n",
        "plt.xlabel('Images', fontsize=14)\n",
        "plt.ylabel('Feature Importance (Mean Grad-CAM)', fontsize=14)\n",
        "plt.title('Feature Importance from Grad-CAM', fontsize=16)\n",
        "plt.xticks(indices, [f'Image {i+1}' for i in indices], fontsize=10, rotation=45)\n",
        "plt.ylim(0, feature_importances.max() * 1.1)  # Set y-axis limit slightly above max\n",
        "\n",
        "# Show the plot\n",
        "plt.tight_layout()\n",
        "plt.show()\n"
      ],
      "metadata": {
        "trusted": true,
        "execution": {
          "iopub.status.busy": "2024-11-08T15:56:53.816438Z",
          "iopub.execute_input": "2024-11-08T15:56:53.816949Z",
          "iopub.status.idle": "2024-11-08T15:56:54.170978Z",
          "shell.execute_reply.started": "2024-11-08T15:56:53.816896Z",
          "shell.execute_reply": "2024-11-08T15:56:54.169769Z"
        },
        "id": "_-HJKUAZhXQ8"
      },
      "outputs": [],
      "execution_count": null
    },
    {
      "cell_type": "code",
      "source": [
        "import torch\n",
        "import numpy as np\n",
        "import matplotlib.pyplot as plt\n",
        "import seaborn as sns\n",
        "import cv2\n",
        "\n",
        "# Function to compute Grad-CAM\n",
        "def grad_cam(input_image, model, target_layer):\n",
        "    # Register forward and backward hooks\n",
        "    activations = []\n",
        "    gradients = []\n",
        "\n",
        "    def forward_hook(module, input, output):\n",
        "        activations.append(output)\n",
        "        print(\"Forward hook triggered. Activation shape:\", output.shape)  # Debug\n",
        "\n",
        "    def backward_hook(module, grad_input, grad_output):\n",
        "        gradients.append(grad_output[0])\n",
        "        print(\"Backward hook triggered. Gradient shape:\", grad_output[0].shape)  # Debug\n",
        "\n",
        "    # Register hooks\n",
        "    forward_handle = target_layer.register_forward_hook(forward_hook)\n",
        "    backward_handle = target_layer.register_backward_hook(backward_hook)\n",
        "\n",
        "    # Forward pass\n",
        "    model.eval()\n",
        "    x = input_image.requires_grad_()  # Ensure input requires gradient\n",
        "    output = model(x)\n",
        "    target_class = output.argmax(dim=1).item()\n",
        "\n",
        "    # Backward pass\n",
        "    model.zero_grad()\n",
        "    output[0, target_class].backward()\n",
        "\n",
        "    # Check if activations and gradients were captured\n",
        "    if not activations or not gradients:\n",
        "        raise RuntimeError(\"Hooks did not capture any activations or gradients.\")\n",
        "\n",
        "    # Get the activation and gradient\n",
        "    activation = activations[0].detach()\n",
        "    gradient = gradients[0].detach()\n",
        "\n",
        "    # Average the gradients spatially\n",
        "    weights = torch.mean(gradient, dim=[0, 2, 3], keepdim=True)\n",
        "\n",
        "    # Create the Grad-CAM map\n",
        "    cam = torch.sum(weights * activation, dim=1).squeeze()\n",
        "    cam = torch.relu(cam)  # Apply ReLU\n",
        "    cam = cam.cpu().numpy()\n",
        "\n",
        "    # Normalize the CAM\n",
        "    cam -= cam.min()\n",
        "    cam /= cam.max()\n",
        "\n",
        "    # Remove hooks after usage\n",
        "    forward_handle.remove()\n",
        "    backward_handle.remove()\n",
        "\n",
        "    return cam, target_class\n",
        "\n",
        "# Assuming `images` is a tensor of shape (N, C, H, W) and model is already defined\n",
        "try:\n",
        "    grad_cam_images, predictions = generate_grad_cam_images(images, model, model.layer4)  # Assuming model.layer4 is the target layer\n",
        "    plot_grad_cam_results(grad_cam_images, predictions)\n",
        "except RuntimeError as e:\n",
        "    print(\"An error occurred:\", e)\n"
      ],
      "metadata": {
        "trusted": true,
        "execution": {
          "iopub.status.busy": "2024-11-08T16:04:18.262831Z",
          "iopub.execute_input": "2024-11-08T16:04:18.264166Z",
          "iopub.status.idle": "2024-11-08T16:04:22.144724Z",
          "shell.execute_reply.started": "2024-11-08T16:04:18.264114Z",
          "shell.execute_reply": "2024-11-08T16:04:22.143505Z"
        },
        "id": "Cy-Cd_g3hXQ8"
      },
      "outputs": [],
      "execution_count": null
    },
    {
      "cell_type": "markdown",
      "source": [
        "# Save the Model (Optional)"
      ],
      "metadata": {
        "id": "o-phJAGGhXQ9"
      }
    },
    {
      "cell_type": "code",
      "source": [
        "# Save the model checkpoint\n",
        "torch.save(model.state_dict(), 'resnet50_cassava.pth')\n"
      ],
      "metadata": {
        "trusted": true,
        "execution": {
          "iopub.status.busy": "2024-11-08T15:56:54.71731Z",
          "iopub.status.idle": "2024-11-08T15:56:54.717789Z",
          "shell.execute_reply.started": "2024-11-08T15:56:54.717556Z",
          "shell.execute_reply": "2024-11-08T15:56:54.717576Z"
        },
        "id": "__T7NWnFhXQ9"
      },
      "outputs": [],
      "execution_count": null
    },
    {
      "cell_type": "code",
      "source": [
        "# Load the model checkpoint\n",
        "model.load_state_dict(torch.load('resnet50_cassava.pth'))\n"
      ],
      "metadata": {
        "trusted": true,
        "execution": {
          "iopub.status.busy": "2024-11-08T15:56:54.719679Z",
          "iopub.status.idle": "2024-11-08T15:56:54.720313Z",
          "shell.execute_reply.started": "2024-11-08T15:56:54.720006Z",
          "shell.execute_reply": "2024-11-08T15:56:54.720037Z"
        },
        "id": "1nCH30ROhXQ-"
      },
      "outputs": [],
      "execution_count": null
    }
  ]
}